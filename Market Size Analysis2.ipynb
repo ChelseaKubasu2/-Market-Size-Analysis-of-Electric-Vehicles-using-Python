{
 "cells": [
  {
   "cell_type": "code",
   "execution_count": 1,
   "id": "2970ce3e-ad0e-4931-bc2c-17dc4848039b",
   "metadata": {},
   "outputs": [],
   "source": [
    "#Importing libraries \n",
    "\n",
    "import numpy as np\n",
    "import pandas as pd\n",
    "import matplotlib.pyplot as plt"
   ]
  },
  {
   "cell_type": "code",
   "execution_count": 2,
   "id": "b5ef08a7-db7a-44e0-a44f-dd75d06390db",
   "metadata": {},
   "outputs": [
    {
     "name": "stdout",
     "output_type": "stream",
     "text": [
      "Requirement already satisfied: numpy in c:\\users\\chelseak\\appdata\\local\\anaconda3\\lib\\site-packages (1.26.4)\n"
     ]
    }
   ],
   "source": [
    "#Installing libraries\n",
    "!pip install numpy\n"
   ]
  },
  {
   "cell_type": "code",
   "execution_count": 3,
   "id": "d6646528-6063-411f-9471-c67aaae4bc7a",
   "metadata": {},
   "outputs": [
    {
     "name": "stdout",
     "output_type": "stream",
     "text": [
      "Requirement already satisfied: matplotlib in c:\\users\\chelseak\\appdata\\local\\anaconda3\\lib\\site-packages (3.8.0)\n",
      "Requirement already satisfied: contourpy>=1.0.1 in c:\\users\\chelseak\\appdata\\local\\anaconda3\\lib\\site-packages (from matplotlib) (1.2.0)\n",
      "Requirement already satisfied: cycler>=0.10 in c:\\users\\chelseak\\appdata\\local\\anaconda3\\lib\\site-packages (from matplotlib) (0.11.0)\n",
      "Requirement already satisfied: fonttools>=4.22.0 in c:\\users\\chelseak\\appdata\\local\\anaconda3\\lib\\site-packages (from matplotlib) (4.25.0)\n",
      "Requirement already satisfied: kiwisolver>=1.0.1 in c:\\users\\chelseak\\appdata\\local\\anaconda3\\lib\\site-packages (from matplotlib) (1.4.4)\n",
      "Requirement already satisfied: numpy<2,>=1.21 in c:\\users\\chelseak\\appdata\\local\\anaconda3\\lib\\site-packages (from matplotlib) (1.26.4)\n",
      "Requirement already satisfied: packaging>=20.0 in c:\\users\\chelseak\\appdata\\local\\anaconda3\\lib\\site-packages (from matplotlib) (23.1)\n",
      "Requirement already satisfied: pillow>=6.2.0 in c:\\users\\chelseak\\appdata\\local\\anaconda3\\lib\\site-packages (from matplotlib) (10.2.0)\n",
      "Requirement already satisfied: pyparsing>=2.3.1 in c:\\users\\chelseak\\appdata\\local\\anaconda3\\lib\\site-packages (from matplotlib) (3.0.9)\n",
      "Requirement already satisfied: python-dateutil>=2.7 in c:\\users\\chelseak\\appdata\\local\\anaconda3\\lib\\site-packages (from matplotlib) (2.8.2)\n",
      "Requirement already satisfied: six>=1.5 in c:\\users\\chelseak\\appdata\\local\\anaconda3\\lib\\site-packages (from python-dateutil>=2.7->matplotlib) (1.16.0)\n"
     ]
    }
   ],
   "source": [
    "!pip install matplotlib\n"
   ]
  },
  {
   "cell_type": "code",
   "execution_count": 4,
   "id": "037a35fc-6aa8-4c0e-9249-a329094968de",
   "metadata": {},
   "outputs": [
    {
     "name": "stdout",
     "output_type": "stream",
     "text": [
      "Requirement already satisfied: numpy in c:\\users\\chelseak\\appdata\\local\\anaconda3\\lib\\site-packages (1.26.4)\n"
     ]
    }
   ],
   "source": [
    "!pip install numpy"
   ]
  },
  {
   "cell_type": "code",
   "execution_count": 5,
   "id": "374040cc-fb97-4bff-ac0e-98e321467b17",
   "metadata": {},
   "outputs": [
    {
     "data": {
      "text/html": [
       "<div>\n",
       "<style scoped>\n",
       "    .dataframe tbody tr th:only-of-type {\n",
       "        vertical-align: middle;\n",
       "    }\n",
       "\n",
       "    .dataframe tbody tr th {\n",
       "        vertical-align: top;\n",
       "    }\n",
       "\n",
       "    .dataframe thead th {\n",
       "        text-align: right;\n",
       "    }\n",
       "</style>\n",
       "<table border=\"1\" class=\"dataframe\">\n",
       "  <thead>\n",
       "    <tr style=\"text-align: right;\">\n",
       "      <th></th>\n",
       "      <th>VIN (1-10)</th>\n",
       "      <th>County</th>\n",
       "      <th>City</th>\n",
       "      <th>State</th>\n",
       "      <th>Postal Code</th>\n",
       "      <th>Model Year</th>\n",
       "      <th>Make</th>\n",
       "      <th>Model</th>\n",
       "      <th>Electric Vehicle Type</th>\n",
       "      <th>Clean Alternative Fuel Vehicle (CAFV) Eligibility</th>\n",
       "      <th>Electric Range</th>\n",
       "      <th>Base MSRP</th>\n",
       "      <th>Legislative District</th>\n",
       "      <th>DOL Vehicle ID</th>\n",
       "      <th>Vehicle Location</th>\n",
       "      <th>Electric Utility</th>\n",
       "      <th>2020 Census Tract</th>\n",
       "    </tr>\n",
       "  </thead>\n",
       "  <tbody>\n",
       "    <tr>\n",
       "      <th>0</th>\n",
       "      <td>5YJYGDEE1L</td>\n",
       "      <td>King</td>\n",
       "      <td>Seattle</td>\n",
       "      <td>WA</td>\n",
       "      <td>98122.0</td>\n",
       "      <td>2020</td>\n",
       "      <td>TESLA</td>\n",
       "      <td>MODEL Y</td>\n",
       "      <td>Battery Electric Vehicle (BEV)</td>\n",
       "      <td>Clean Alternative Fuel Vehicle Eligible</td>\n",
       "      <td>291</td>\n",
       "      <td>0</td>\n",
       "      <td>37.0</td>\n",
       "      <td>125701579</td>\n",
       "      <td>POINT (-122.30839 47.610365)</td>\n",
       "      <td>CITY OF SEATTLE - (WA)|CITY OF TACOMA - (WA)</td>\n",
       "      <td>5.303301e+10</td>\n",
       "    </tr>\n",
       "    <tr>\n",
       "      <th>1</th>\n",
       "      <td>7SAYGDEE9P</td>\n",
       "      <td>Snohomish</td>\n",
       "      <td>Bothell</td>\n",
       "      <td>WA</td>\n",
       "      <td>98021.0</td>\n",
       "      <td>2023</td>\n",
       "      <td>TESLA</td>\n",
       "      <td>MODEL Y</td>\n",
       "      <td>Battery Electric Vehicle (BEV)</td>\n",
       "      <td>Eligibility unknown as battery range has not b...</td>\n",
       "      <td>0</td>\n",
       "      <td>0</td>\n",
       "      <td>1.0</td>\n",
       "      <td>244285107</td>\n",
       "      <td>POINT (-122.179458 47.802589)</td>\n",
       "      <td>PUGET SOUND ENERGY INC</td>\n",
       "      <td>5.306105e+10</td>\n",
       "    </tr>\n",
       "    <tr>\n",
       "      <th>2</th>\n",
       "      <td>5YJSA1E4XK</td>\n",
       "      <td>King</td>\n",
       "      <td>Seattle</td>\n",
       "      <td>WA</td>\n",
       "      <td>98109.0</td>\n",
       "      <td>2019</td>\n",
       "      <td>TESLA</td>\n",
       "      <td>MODEL S</td>\n",
       "      <td>Battery Electric Vehicle (BEV)</td>\n",
       "      <td>Clean Alternative Fuel Vehicle Eligible</td>\n",
       "      <td>270</td>\n",
       "      <td>0</td>\n",
       "      <td>36.0</td>\n",
       "      <td>156773144</td>\n",
       "      <td>POINT (-122.34848 47.632405)</td>\n",
       "      <td>CITY OF SEATTLE - (WA)|CITY OF TACOMA - (WA)</td>\n",
       "      <td>5.303301e+10</td>\n",
       "    </tr>\n",
       "    <tr>\n",
       "      <th>3</th>\n",
       "      <td>5YJSA1E27G</td>\n",
       "      <td>King</td>\n",
       "      <td>Issaquah</td>\n",
       "      <td>WA</td>\n",
       "      <td>98027.0</td>\n",
       "      <td>2016</td>\n",
       "      <td>TESLA</td>\n",
       "      <td>MODEL S</td>\n",
       "      <td>Battery Electric Vehicle (BEV)</td>\n",
       "      <td>Clean Alternative Fuel Vehicle Eligible</td>\n",
       "      <td>210</td>\n",
       "      <td>0</td>\n",
       "      <td>5.0</td>\n",
       "      <td>165103011</td>\n",
       "      <td>POINT (-122.03646 47.534065)</td>\n",
       "      <td>PUGET SOUND ENERGY INC||CITY OF TACOMA - (WA)</td>\n",
       "      <td>5.303303e+10</td>\n",
       "    </tr>\n",
       "    <tr>\n",
       "      <th>4</th>\n",
       "      <td>5YJYGDEE5M</td>\n",
       "      <td>Kitsap</td>\n",
       "      <td>Suquamish</td>\n",
       "      <td>WA</td>\n",
       "      <td>98392.0</td>\n",
       "      <td>2021</td>\n",
       "      <td>TESLA</td>\n",
       "      <td>MODEL Y</td>\n",
       "      <td>Battery Electric Vehicle (BEV)</td>\n",
       "      <td>Eligibility unknown as battery range has not b...</td>\n",
       "      <td>0</td>\n",
       "      <td>0</td>\n",
       "      <td>23.0</td>\n",
       "      <td>205138552</td>\n",
       "      <td>POINT (-122.55717 47.733415)</td>\n",
       "      <td>PUGET SOUND ENERGY INC</td>\n",
       "      <td>5.303594e+10</td>\n",
       "    </tr>\n",
       "    <tr>\n",
       "      <th>...</th>\n",
       "      <td>...</td>\n",
       "      <td>...</td>\n",
       "      <td>...</td>\n",
       "      <td>...</td>\n",
       "      <td>...</td>\n",
       "      <td>...</td>\n",
       "      <td>...</td>\n",
       "      <td>...</td>\n",
       "      <td>...</td>\n",
       "      <td>...</td>\n",
       "      <td>...</td>\n",
       "      <td>...</td>\n",
       "      <td>...</td>\n",
       "      <td>...</td>\n",
       "      <td>...</td>\n",
       "      <td>...</td>\n",
       "      <td>...</td>\n",
       "    </tr>\n",
       "    <tr>\n",
       "      <th>177861</th>\n",
       "      <td>7SAYGDEE3N</td>\n",
       "      <td>Pierce</td>\n",
       "      <td>Bonney Lake</td>\n",
       "      <td>WA</td>\n",
       "      <td>98391.0</td>\n",
       "      <td>2022</td>\n",
       "      <td>TESLA</td>\n",
       "      <td>MODEL Y</td>\n",
       "      <td>Battery Electric Vehicle (BEV)</td>\n",
       "      <td>Eligibility unknown as battery range has not b...</td>\n",
       "      <td>0</td>\n",
       "      <td>0</td>\n",
       "      <td>31.0</td>\n",
       "      <td>195224452</td>\n",
       "      <td>POINT (-122.183805 47.18062)</td>\n",
       "      <td>PUGET SOUND ENERGY INC||CITY OF TACOMA - (WA)</td>\n",
       "      <td>5.305307e+10</td>\n",
       "    </tr>\n",
       "    <tr>\n",
       "      <th>177862</th>\n",
       "      <td>KM8K23AG1P</td>\n",
       "      <td>Mason</td>\n",
       "      <td>Shelton</td>\n",
       "      <td>WA</td>\n",
       "      <td>98584.0</td>\n",
       "      <td>2023</td>\n",
       "      <td>HYUNDAI</td>\n",
       "      <td>KONA ELECTRIC</td>\n",
       "      <td>Battery Electric Vehicle (BEV)</td>\n",
       "      <td>Eligibility unknown as battery range has not b...</td>\n",
       "      <td>0</td>\n",
       "      <td>0</td>\n",
       "      <td>35.0</td>\n",
       "      <td>228454180</td>\n",
       "      <td>POINT (-123.105305 47.211085)</td>\n",
       "      <td>BONNEVILLE POWER ADMINISTRATION||CITY OF TACOM...</td>\n",
       "      <td>5.304596e+10</td>\n",
       "    </tr>\n",
       "    <tr>\n",
       "      <th>177863</th>\n",
       "      <td>5YJYGDEE6M</td>\n",
       "      <td>Grant</td>\n",
       "      <td>Quincy</td>\n",
       "      <td>WA</td>\n",
       "      <td>98848.0</td>\n",
       "      <td>2021</td>\n",
       "      <td>TESLA</td>\n",
       "      <td>MODEL Y</td>\n",
       "      <td>Battery Electric Vehicle (BEV)</td>\n",
       "      <td>Eligibility unknown as battery range has not b...</td>\n",
       "      <td>0</td>\n",
       "      <td>0</td>\n",
       "      <td>13.0</td>\n",
       "      <td>168797219</td>\n",
       "      <td>POINT (-119.8493873 47.2339933)</td>\n",
       "      <td>PUD NO 2 OF GRANT COUNTY</td>\n",
       "      <td>5.302501e+10</td>\n",
       "    </tr>\n",
       "    <tr>\n",
       "      <th>177864</th>\n",
       "      <td>WVGKMPE27M</td>\n",
       "      <td>King</td>\n",
       "      <td>Black Diamond</td>\n",
       "      <td>WA</td>\n",
       "      <td>98010.0</td>\n",
       "      <td>2021</td>\n",
       "      <td>VOLKSWAGEN</td>\n",
       "      <td>ID.4</td>\n",
       "      <td>Battery Electric Vehicle (BEV)</td>\n",
       "      <td>Eligibility unknown as battery range has not b...</td>\n",
       "      <td>0</td>\n",
       "      <td>0</td>\n",
       "      <td>5.0</td>\n",
       "      <td>182448801</td>\n",
       "      <td>POINT (-122.00451 47.312185)</td>\n",
       "      <td>PUGET SOUND ENERGY INC||CITY OF TACOMA - (WA)</td>\n",
       "      <td>5.303303e+10</td>\n",
       "    </tr>\n",
       "    <tr>\n",
       "      <th>177865</th>\n",
       "      <td>5YJ3E1EA8M</td>\n",
       "      <td>Pierce</td>\n",
       "      <td>Tacoma</td>\n",
       "      <td>WA</td>\n",
       "      <td>98422.0</td>\n",
       "      <td>2021</td>\n",
       "      <td>TESLA</td>\n",
       "      <td>MODEL 3</td>\n",
       "      <td>Battery Electric Vehicle (BEV)</td>\n",
       "      <td>Eligibility unknown as battery range has not b...</td>\n",
       "      <td>0</td>\n",
       "      <td>0</td>\n",
       "      <td>27.0</td>\n",
       "      <td>211464683</td>\n",
       "      <td>POINT (-122.38578 47.28971)</td>\n",
       "      <td>BONNEVILLE POWER ADMINISTRATION||CITY OF TACOM...</td>\n",
       "      <td>5.305394e+10</td>\n",
       "    </tr>\n",
       "  </tbody>\n",
       "</table>\n",
       "<p>177866 rows × 17 columns</p>\n",
       "</div>"
      ],
      "text/plain": [
       "        VIN (1-10)     County           City State  Postal Code  Model Year  \\\n",
       "0       5YJYGDEE1L       King        Seattle    WA      98122.0        2020   \n",
       "1       7SAYGDEE9P  Snohomish        Bothell    WA      98021.0        2023   \n",
       "2       5YJSA1E4XK       King        Seattle    WA      98109.0        2019   \n",
       "3       5YJSA1E27G       King       Issaquah    WA      98027.0        2016   \n",
       "4       5YJYGDEE5M     Kitsap      Suquamish    WA      98392.0        2021   \n",
       "...            ...        ...            ...   ...          ...         ...   \n",
       "177861  7SAYGDEE3N     Pierce    Bonney Lake    WA      98391.0        2022   \n",
       "177862  KM8K23AG1P      Mason        Shelton    WA      98584.0        2023   \n",
       "177863  5YJYGDEE6M      Grant         Quincy    WA      98848.0        2021   \n",
       "177864  WVGKMPE27M       King  Black Diamond    WA      98010.0        2021   \n",
       "177865  5YJ3E1EA8M     Pierce         Tacoma    WA      98422.0        2021   \n",
       "\n",
       "              Make          Model           Electric Vehicle Type  \\\n",
       "0            TESLA        MODEL Y  Battery Electric Vehicle (BEV)   \n",
       "1            TESLA        MODEL Y  Battery Electric Vehicle (BEV)   \n",
       "2            TESLA        MODEL S  Battery Electric Vehicle (BEV)   \n",
       "3            TESLA        MODEL S  Battery Electric Vehicle (BEV)   \n",
       "4            TESLA        MODEL Y  Battery Electric Vehicle (BEV)   \n",
       "...            ...            ...                             ...   \n",
       "177861       TESLA        MODEL Y  Battery Electric Vehicle (BEV)   \n",
       "177862     HYUNDAI  KONA ELECTRIC  Battery Electric Vehicle (BEV)   \n",
       "177863       TESLA        MODEL Y  Battery Electric Vehicle (BEV)   \n",
       "177864  VOLKSWAGEN           ID.4  Battery Electric Vehicle (BEV)   \n",
       "177865       TESLA        MODEL 3  Battery Electric Vehicle (BEV)   \n",
       "\n",
       "        Clean Alternative Fuel Vehicle (CAFV) Eligibility  Electric Range  \\\n",
       "0                 Clean Alternative Fuel Vehicle Eligible             291   \n",
       "1       Eligibility unknown as battery range has not b...               0   \n",
       "2                 Clean Alternative Fuel Vehicle Eligible             270   \n",
       "3                 Clean Alternative Fuel Vehicle Eligible             210   \n",
       "4       Eligibility unknown as battery range has not b...               0   \n",
       "...                                                   ...             ...   \n",
       "177861  Eligibility unknown as battery range has not b...               0   \n",
       "177862  Eligibility unknown as battery range has not b...               0   \n",
       "177863  Eligibility unknown as battery range has not b...               0   \n",
       "177864  Eligibility unknown as battery range has not b...               0   \n",
       "177865  Eligibility unknown as battery range has not b...               0   \n",
       "\n",
       "        Base MSRP  Legislative District  DOL Vehicle ID  \\\n",
       "0               0                  37.0       125701579   \n",
       "1               0                   1.0       244285107   \n",
       "2               0                  36.0       156773144   \n",
       "3               0                   5.0       165103011   \n",
       "4               0                  23.0       205138552   \n",
       "...           ...                   ...             ...   \n",
       "177861          0                  31.0       195224452   \n",
       "177862          0                  35.0       228454180   \n",
       "177863          0                  13.0       168797219   \n",
       "177864          0                   5.0       182448801   \n",
       "177865          0                  27.0       211464683   \n",
       "\n",
       "                       Vehicle Location  \\\n",
       "0          POINT (-122.30839 47.610365)   \n",
       "1         POINT (-122.179458 47.802589)   \n",
       "2          POINT (-122.34848 47.632405)   \n",
       "3          POINT (-122.03646 47.534065)   \n",
       "4          POINT (-122.55717 47.733415)   \n",
       "...                                 ...   \n",
       "177861     POINT (-122.183805 47.18062)   \n",
       "177862    POINT (-123.105305 47.211085)   \n",
       "177863  POINT (-119.8493873 47.2339933)   \n",
       "177864     POINT (-122.00451 47.312185)   \n",
       "177865      POINT (-122.38578 47.28971)   \n",
       "\n",
       "                                         Electric Utility  2020 Census Tract  \n",
       "0            CITY OF SEATTLE - (WA)|CITY OF TACOMA - (WA)       5.303301e+10  \n",
       "1                                  PUGET SOUND ENERGY INC       5.306105e+10  \n",
       "2            CITY OF SEATTLE - (WA)|CITY OF TACOMA - (WA)       5.303301e+10  \n",
       "3           PUGET SOUND ENERGY INC||CITY OF TACOMA - (WA)       5.303303e+10  \n",
       "4                                  PUGET SOUND ENERGY INC       5.303594e+10  \n",
       "...                                                   ...                ...  \n",
       "177861      PUGET SOUND ENERGY INC||CITY OF TACOMA - (WA)       5.305307e+10  \n",
       "177862  BONNEVILLE POWER ADMINISTRATION||CITY OF TACOM...       5.304596e+10  \n",
       "177863                           PUD NO 2 OF GRANT COUNTY       5.302501e+10  \n",
       "177864      PUGET SOUND ENERGY INC||CITY OF TACOMA - (WA)       5.303303e+10  \n",
       "177865  BONNEVILLE POWER ADMINISTRATION||CITY OF TACOM...       5.305394e+10  \n",
       "\n",
       "[177866 rows x 17 columns]"
      ]
     },
     "execution_count": 5,
     "metadata": {},
     "output_type": "execute_result"
    }
   ],
   "source": [
    "#Loading the dataset\n",
    "data = pd.read_csv(\"./Music/Electric_Vehicle_Population_Data.csv\")\n",
    "data"
   ]
  },
  {
   "cell_type": "code",
   "execution_count": 6,
   "id": "458bc5f7-7725-4934-867b-2cd7da89a795",
   "metadata": {},
   "outputs": [
    {
     "data": {
      "text/html": [
       "<div>\n",
       "<style scoped>\n",
       "    .dataframe tbody tr th:only-of-type {\n",
       "        vertical-align: middle;\n",
       "    }\n",
       "\n",
       "    .dataframe tbody tr th {\n",
       "        vertical-align: top;\n",
       "    }\n",
       "\n",
       "    .dataframe thead th {\n",
       "        text-align: right;\n",
       "    }\n",
       "</style>\n",
       "<table border=\"1\" class=\"dataframe\">\n",
       "  <thead>\n",
       "    <tr style=\"text-align: right;\">\n",
       "      <th></th>\n",
       "      <th>VIN (1-10)</th>\n",
       "      <th>County</th>\n",
       "      <th>City</th>\n",
       "      <th>State</th>\n",
       "      <th>Postal Code</th>\n",
       "      <th>Model Year</th>\n",
       "      <th>Make</th>\n",
       "      <th>Model</th>\n",
       "      <th>Electric Vehicle Type</th>\n",
       "      <th>Clean Alternative Fuel Vehicle (CAFV) Eligibility</th>\n",
       "      <th>Electric Range</th>\n",
       "      <th>Base MSRP</th>\n",
       "      <th>Legislative District</th>\n",
       "      <th>DOL Vehicle ID</th>\n",
       "      <th>Vehicle Location</th>\n",
       "      <th>Electric Utility</th>\n",
       "      <th>2020 Census Tract</th>\n",
       "    </tr>\n",
       "  </thead>\n",
       "  <tbody>\n",
       "    <tr>\n",
       "      <th>159058</th>\n",
       "      <td>1C4RJYD61P</td>\n",
       "      <td>Lewis</td>\n",
       "      <td>Packwood</td>\n",
       "      <td>WA</td>\n",
       "      <td>98361.0</td>\n",
       "      <td>2023</td>\n",
       "      <td>JEEP</td>\n",
       "      <td>GRAND CHEROKEE</td>\n",
       "      <td>Plug-in Hybrid Electric Vehicle (PHEV)</td>\n",
       "      <td>Not eligible due to low battery range</td>\n",
       "      <td>25</td>\n",
       "      <td>0</td>\n",
       "      <td>20.0</td>\n",
       "      <td>230435180</td>\n",
       "      <td>POINT (-121.66915 46.60968)</td>\n",
       "      <td>BONNEVILLE POWER ADMINISTRATION||CITY OF TACOM...</td>\n",
       "      <td>5.304197e+10</td>\n",
       "    </tr>\n",
       "    <tr>\n",
       "      <th>20798</th>\n",
       "      <td>1G1RA6S57J</td>\n",
       "      <td>King</td>\n",
       "      <td>Sammamish</td>\n",
       "      <td>WA</td>\n",
       "      <td>98075.0</td>\n",
       "      <td>2018</td>\n",
       "      <td>CHEVROLET</td>\n",
       "      <td>VOLT</td>\n",
       "      <td>Plug-in Hybrid Electric Vehicle (PHEV)</td>\n",
       "      <td>Clean Alternative Fuel Vehicle Eligible</td>\n",
       "      <td>53</td>\n",
       "      <td>0</td>\n",
       "      <td>41.0</td>\n",
       "      <td>333930789</td>\n",
       "      <td>POINT (-122.03309 47.58153)</td>\n",
       "      <td>PUGET SOUND ENERGY INC||CITY OF TACOMA - (WA)</td>\n",
       "      <td>5.303303e+10</td>\n",
       "    </tr>\n",
       "    <tr>\n",
       "      <th>67537</th>\n",
       "      <td>7SAYGDEE9P</td>\n",
       "      <td>King</td>\n",
       "      <td>Bellevue</td>\n",
       "      <td>WA</td>\n",
       "      <td>98004.0</td>\n",
       "      <td>2023</td>\n",
       "      <td>TESLA</td>\n",
       "      <td>MODEL Y</td>\n",
       "      <td>Battery Electric Vehicle (BEV)</td>\n",
       "      <td>Eligibility unknown as battery range has not b...</td>\n",
       "      <td>0</td>\n",
       "      <td>0</td>\n",
       "      <td>41.0</td>\n",
       "      <td>231162907</td>\n",
       "      <td>POINT (-122.201905 47.61385)</td>\n",
       "      <td>PUGET SOUND ENERGY INC||CITY OF TACOMA - (WA)</td>\n",
       "      <td>5.303302e+10</td>\n",
       "    </tr>\n",
       "    <tr>\n",
       "      <th>56413</th>\n",
       "      <td>KNDPYDAH9P</td>\n",
       "      <td>King</td>\n",
       "      <td>Seattle</td>\n",
       "      <td>WA</td>\n",
       "      <td>98118.0</td>\n",
       "      <td>2023</td>\n",
       "      <td>KIA</td>\n",
       "      <td>SPORTAGE</td>\n",
       "      <td>Plug-in Hybrid Electric Vehicle (PHEV)</td>\n",
       "      <td>Clean Alternative Fuel Vehicle Eligible</td>\n",
       "      <td>34</td>\n",
       "      <td>0</td>\n",
       "      <td>37.0</td>\n",
       "      <td>244998820</td>\n",
       "      <td>POINT (-122.28339 47.549285)</td>\n",
       "      <td>PUGET SOUND ENERGY INC||CITY OF TACOMA - (WA)</td>\n",
       "      <td>5.303301e+10</td>\n",
       "    </tr>\n",
       "    <tr>\n",
       "      <th>76026</th>\n",
       "      <td>5YJ3E1EB6L</td>\n",
       "      <td>King</td>\n",
       "      <td>Issaquah</td>\n",
       "      <td>WA</td>\n",
       "      <td>98027.0</td>\n",
       "      <td>2020</td>\n",
       "      <td>TESLA</td>\n",
       "      <td>MODEL 3</td>\n",
       "      <td>Battery Electric Vehicle (BEV)</td>\n",
       "      <td>Clean Alternative Fuel Vehicle Eligible</td>\n",
       "      <td>322</td>\n",
       "      <td>0</td>\n",
       "      <td>5.0</td>\n",
       "      <td>8300456</td>\n",
       "      <td>POINT (-122.03646 47.534065)</td>\n",
       "      <td>PUGET SOUND ENERGY INC||CITY OF TACOMA - (WA)</td>\n",
       "      <td>5.303303e+10</td>\n",
       "    </tr>\n",
       "    <tr>\n",
       "      <th>177415</th>\n",
       "      <td>KM8KRDDF1R</td>\n",
       "      <td>Pierce</td>\n",
       "      <td>University Place</td>\n",
       "      <td>WA</td>\n",
       "      <td>98466.0</td>\n",
       "      <td>2024</td>\n",
       "      <td>HYUNDAI</td>\n",
       "      <td>IONIQ 5</td>\n",
       "      <td>Battery Electric Vehicle (BEV)</td>\n",
       "      <td>Eligibility unknown as battery range has not b...</td>\n",
       "      <td>0</td>\n",
       "      <td>0</td>\n",
       "      <td>28.0</td>\n",
       "      <td>260497534</td>\n",
       "      <td>POINT (-122.537565 47.231645)</td>\n",
       "      <td>BONNEVILLE POWER ADMINISTRATION||CITY OF TACOM...</td>\n",
       "      <td>5.305307e+10</td>\n",
       "    </tr>\n",
       "    <tr>\n",
       "      <th>119677</th>\n",
       "      <td>7SAXCBE58P</td>\n",
       "      <td>Cowlitz</td>\n",
       "      <td>Castle Rock</td>\n",
       "      <td>WA</td>\n",
       "      <td>98611.0</td>\n",
       "      <td>2023</td>\n",
       "      <td>TESLA</td>\n",
       "      <td>MODEL X</td>\n",
       "      <td>Battery Electric Vehicle (BEV)</td>\n",
       "      <td>Eligibility unknown as battery range has not b...</td>\n",
       "      <td>0</td>\n",
       "      <td>0</td>\n",
       "      <td>20.0</td>\n",
       "      <td>258547964</td>\n",
       "      <td>POINT (-122.90778 46.2744)</td>\n",
       "      <td>BONNEVILLE POWER ADMINISTRATION||PUD NO 1 OF C...</td>\n",
       "      <td>5.301500e+10</td>\n",
       "    </tr>\n",
       "    <tr>\n",
       "      <th>90158</th>\n",
       "      <td>WVGRMPE23M</td>\n",
       "      <td>King</td>\n",
       "      <td>Seattle</td>\n",
       "      <td>WA</td>\n",
       "      <td>98118.0</td>\n",
       "      <td>2021</td>\n",
       "      <td>VOLKSWAGEN</td>\n",
       "      <td>ID.4</td>\n",
       "      <td>Battery Electric Vehicle (BEV)</td>\n",
       "      <td>Eligibility unknown as battery range has not b...</td>\n",
       "      <td>0</td>\n",
       "      <td>0</td>\n",
       "      <td>37.0</td>\n",
       "      <td>176470990</td>\n",
       "      <td>POINT (-122.28339 47.549285)</td>\n",
       "      <td>CITY OF SEATTLE - (WA)|CITY OF TACOMA - (WA)</td>\n",
       "      <td>5.303301e+10</td>\n",
       "    </tr>\n",
       "    <tr>\n",
       "      <th>28493</th>\n",
       "      <td>5YJYGDEE1M</td>\n",
       "      <td>King</td>\n",
       "      <td>Seattle</td>\n",
       "      <td>WA</td>\n",
       "      <td>98116.0</td>\n",
       "      <td>2021</td>\n",
       "      <td>TESLA</td>\n",
       "      <td>MODEL Y</td>\n",
       "      <td>Battery Electric Vehicle (BEV)</td>\n",
       "      <td>Eligibility unknown as battery range has not b...</td>\n",
       "      <td>0</td>\n",
       "      <td>0</td>\n",
       "      <td>34.0</td>\n",
       "      <td>148203744</td>\n",
       "      <td>POINT (-122.38679 47.56484)</td>\n",
       "      <td>CITY OF SEATTLE - (WA)|CITY OF TACOMA - (WA)</td>\n",
       "      <td>5.303301e+10</td>\n",
       "    </tr>\n",
       "    <tr>\n",
       "      <th>39495</th>\n",
       "      <td>7SAYGDEE8P</td>\n",
       "      <td>King</td>\n",
       "      <td>Mercer Island</td>\n",
       "      <td>WA</td>\n",
       "      <td>98040.0</td>\n",
       "      <td>2023</td>\n",
       "      <td>TESLA</td>\n",
       "      <td>MODEL Y</td>\n",
       "      <td>Battery Electric Vehicle (BEV)</td>\n",
       "      <td>Eligibility unknown as battery range has not b...</td>\n",
       "      <td>0</td>\n",
       "      <td>0</td>\n",
       "      <td>41.0</td>\n",
       "      <td>241518868</td>\n",
       "      <td>POINT (-122.2377542 47.582905)</td>\n",
       "      <td>PUGET SOUND ENERGY INC||CITY OF TACOMA - (WA)</td>\n",
       "      <td>5.303302e+10</td>\n",
       "    </tr>\n",
       "  </tbody>\n",
       "</table>\n",
       "</div>"
      ],
      "text/plain": [
       "        VIN (1-10)   County              City State  Postal Code  Model Year  \\\n",
       "159058  1C4RJYD61P    Lewis          Packwood    WA      98361.0        2023   \n",
       "20798   1G1RA6S57J     King         Sammamish    WA      98075.0        2018   \n",
       "67537   7SAYGDEE9P     King          Bellevue    WA      98004.0        2023   \n",
       "56413   KNDPYDAH9P     King           Seattle    WA      98118.0        2023   \n",
       "76026   5YJ3E1EB6L     King          Issaquah    WA      98027.0        2020   \n",
       "177415  KM8KRDDF1R   Pierce  University Place    WA      98466.0        2024   \n",
       "119677  7SAXCBE58P  Cowlitz       Castle Rock    WA      98611.0        2023   \n",
       "90158   WVGRMPE23M     King           Seattle    WA      98118.0        2021   \n",
       "28493   5YJYGDEE1M     King           Seattle    WA      98116.0        2021   \n",
       "39495   7SAYGDEE8P     King     Mercer Island    WA      98040.0        2023   \n",
       "\n",
       "              Make           Model                   Electric Vehicle Type  \\\n",
       "159058        JEEP  GRAND CHEROKEE  Plug-in Hybrid Electric Vehicle (PHEV)   \n",
       "20798    CHEVROLET            VOLT  Plug-in Hybrid Electric Vehicle (PHEV)   \n",
       "67537        TESLA         MODEL Y          Battery Electric Vehicle (BEV)   \n",
       "56413          KIA        SPORTAGE  Plug-in Hybrid Electric Vehicle (PHEV)   \n",
       "76026        TESLA         MODEL 3          Battery Electric Vehicle (BEV)   \n",
       "177415     HYUNDAI         IONIQ 5          Battery Electric Vehicle (BEV)   \n",
       "119677       TESLA         MODEL X          Battery Electric Vehicle (BEV)   \n",
       "90158   VOLKSWAGEN            ID.4          Battery Electric Vehicle (BEV)   \n",
       "28493        TESLA         MODEL Y          Battery Electric Vehicle (BEV)   \n",
       "39495        TESLA         MODEL Y          Battery Electric Vehicle (BEV)   \n",
       "\n",
       "        Clean Alternative Fuel Vehicle (CAFV) Eligibility  Electric Range  \\\n",
       "159058              Not eligible due to low battery range              25   \n",
       "20798             Clean Alternative Fuel Vehicle Eligible              53   \n",
       "67537   Eligibility unknown as battery range has not b...               0   \n",
       "56413             Clean Alternative Fuel Vehicle Eligible              34   \n",
       "76026             Clean Alternative Fuel Vehicle Eligible             322   \n",
       "177415  Eligibility unknown as battery range has not b...               0   \n",
       "119677  Eligibility unknown as battery range has not b...               0   \n",
       "90158   Eligibility unknown as battery range has not b...               0   \n",
       "28493   Eligibility unknown as battery range has not b...               0   \n",
       "39495   Eligibility unknown as battery range has not b...               0   \n",
       "\n",
       "        Base MSRP  Legislative District  DOL Vehicle ID  \\\n",
       "159058          0                  20.0       230435180   \n",
       "20798           0                  41.0       333930789   \n",
       "67537           0                  41.0       231162907   \n",
       "56413           0                  37.0       244998820   \n",
       "76026           0                   5.0         8300456   \n",
       "177415          0                  28.0       260497534   \n",
       "119677          0                  20.0       258547964   \n",
       "90158           0                  37.0       176470990   \n",
       "28493           0                  34.0       148203744   \n",
       "39495           0                  41.0       241518868   \n",
       "\n",
       "                      Vehicle Location  \\\n",
       "159058     POINT (-121.66915 46.60968)   \n",
       "20798      POINT (-122.03309 47.58153)   \n",
       "67537     POINT (-122.201905 47.61385)   \n",
       "56413     POINT (-122.28339 47.549285)   \n",
       "76026     POINT (-122.03646 47.534065)   \n",
       "177415   POINT (-122.537565 47.231645)   \n",
       "119677      POINT (-122.90778 46.2744)   \n",
       "90158     POINT (-122.28339 47.549285)   \n",
       "28493      POINT (-122.38679 47.56484)   \n",
       "39495   POINT (-122.2377542 47.582905)   \n",
       "\n",
       "                                         Electric Utility  2020 Census Tract  \n",
       "159058  BONNEVILLE POWER ADMINISTRATION||CITY OF TACOM...       5.304197e+10  \n",
       "20798       PUGET SOUND ENERGY INC||CITY OF TACOMA - (WA)       5.303303e+10  \n",
       "67537       PUGET SOUND ENERGY INC||CITY OF TACOMA - (WA)       5.303302e+10  \n",
       "56413       PUGET SOUND ENERGY INC||CITY OF TACOMA - (WA)       5.303301e+10  \n",
       "76026       PUGET SOUND ENERGY INC||CITY OF TACOMA - (WA)       5.303303e+10  \n",
       "177415  BONNEVILLE POWER ADMINISTRATION||CITY OF TACOM...       5.305307e+10  \n",
       "119677  BONNEVILLE POWER ADMINISTRATION||PUD NO 1 OF C...       5.301500e+10  \n",
       "90158        CITY OF SEATTLE - (WA)|CITY OF TACOMA - (WA)       5.303301e+10  \n",
       "28493        CITY OF SEATTLE - (WA)|CITY OF TACOMA - (WA)       5.303301e+10  \n",
       "39495       PUGET SOUND ENERGY INC||CITY OF TACOMA - (WA)       5.303302e+10  "
      ]
     },
     "execution_count": 6,
     "metadata": {},
     "output_type": "execute_result"
    }
   ],
   "source": [
    "#Obtainin a sample of 10 from the data\n",
    "data.sample(10)"
   ]
  },
  {
   "cell_type": "code",
   "execution_count": 7,
   "id": "125fa2d3-1796-48d3-880e-4c18d736fedb",
   "metadata": {},
   "outputs": [
    {
     "name": "stdout",
     "output_type": "stream",
     "text": [
      "<class 'pandas.core.frame.DataFrame'>\n",
      "RangeIndex: 177866 entries, 0 to 177865\n",
      "Data columns (total 17 columns):\n",
      " #   Column                                             Non-Null Count   Dtype  \n",
      "---  ------                                             --------------   -----  \n",
      " 0   VIN (1-10)                                         177866 non-null  object \n",
      " 1   County                                             177861 non-null  object \n",
      " 2   City                                               177861 non-null  object \n",
      " 3   State                                              177866 non-null  object \n",
      " 4   Postal Code                                        177861 non-null  float64\n",
      " 5   Model Year                                         177866 non-null  int64  \n",
      " 6   Make                                               177866 non-null  object \n",
      " 7   Model                                              177866 non-null  object \n",
      " 8   Electric Vehicle Type                              177866 non-null  object \n",
      " 9   Clean Alternative Fuel Vehicle (CAFV) Eligibility  177866 non-null  object \n",
      " 10  Electric Range                                     177866 non-null  int64  \n",
      " 11  Base MSRP                                          177866 non-null  int64  \n",
      " 12  Legislative District                               177477 non-null  float64\n",
      " 13  DOL Vehicle ID                                     177866 non-null  int64  \n",
      " 14  Vehicle Location                                   177857 non-null  object \n",
      " 15  Electric Utility                                   177861 non-null  object \n",
      " 16  2020 Census Tract                                  177861 non-null  float64\n",
      "dtypes: float64(3), int64(4), object(10)\n",
      "memory usage: 23.1+ MB\n"
     ]
    }
   ],
   "source": [
    "#Properties of columns \n",
    "data.info()"
   ]
  },
  {
   "cell_type": "code",
   "execution_count": 8,
   "id": "e3678cda-4f6a-454e-83d6-819e2bc9acb9",
   "metadata": {},
   "outputs": [
    {
     "data": {
      "text/plain": [
       "VIN (1-10)                                             0\n",
       "County                                                 5\n",
       "City                                                   5\n",
       "State                                                  0\n",
       "Postal Code                                            5\n",
       "Model Year                                             0\n",
       "Make                                                   0\n",
       "Model                                                  0\n",
       "Electric Vehicle Type                                  0\n",
       "Clean Alternative Fuel Vehicle (CAFV) Eligibility      0\n",
       "Electric Range                                         0\n",
       "Base MSRP                                              0\n",
       "Legislative District                                 389\n",
       "DOL Vehicle ID                                         0\n",
       "Vehicle Location                                       9\n",
       "Electric Utility                                       5\n",
       "2020 Census Tract                                      5\n",
       "dtype: int64"
      ]
     },
     "execution_count": 8,
     "metadata": {},
     "output_type": "execute_result"
    }
   ],
   "source": [
    "#Cleaning the data\n",
    "#Start by removing NULL Values\n",
    "#Checking for null values\n",
    "data.isnull().sum()"
   ]
  },
  {
   "cell_type": "code",
   "execution_count": 9,
   "id": "9d98454a-12f3-42f5-966b-1ec3113c87e4",
   "metadata": {},
   "outputs": [],
   "source": [
    "##Removing the null values\n",
    "\n",
    "data = data.dropna()"
   ]
  },
  {
   "cell_type": "code",
   "execution_count": 10,
   "id": "6de3ba99-4a81-42f4-8df4-bf0b2fbcb075",
   "metadata": {},
   "outputs": [
    {
     "data": {
      "text/plain": [
       "VIN (1-10)                                           0\n",
       "County                                               0\n",
       "City                                                 0\n",
       "State                                                0\n",
       "Postal Code                                          0\n",
       "Model Year                                           0\n",
       "Make                                                 0\n",
       "Model                                                0\n",
       "Electric Vehicle Type                                0\n",
       "Clean Alternative Fuel Vehicle (CAFV) Eligibility    0\n",
       "Electric Range                                       0\n",
       "Base MSRP                                            0\n",
       "Legislative District                                 0\n",
       "DOL Vehicle ID                                       0\n",
       "Vehicle Location                                     0\n",
       "Electric Utility                                     0\n",
       "2020 Census Tract                                    0\n",
       "dtype: int64"
      ]
     },
     "execution_count": 10,
     "metadata": {},
     "output_type": "execute_result"
    }
   ],
   "source": [
    "#All NULL values have been removed\n",
    "data.isnull().sum()"
   ]
  },
  {
   "cell_type": "code",
   "execution_count": 11,
   "id": "1de5d9a2-49f2-4d98-9249-961a93062c9a",
   "metadata": {},
   "outputs": [],
   "source": [
    "#Setting a common grid for all the visualizations\n",
    "\n",
    "import seaborn as sns\n",
    "sns.set_style(\"whitegrid\")"
   ]
  },
  {
   "cell_type": "code",
   "execution_count": 12,
   "id": "87545192-c4af-45a9-90eb-67afbde30d7d",
   "metadata": {},
   "outputs": [
    {
     "name": "stdout",
     "output_type": "stream",
     "text": [
      "<class 'pandas.core.frame.DataFrame'>\n",
      "Index: 177473 entries, 0 to 177865\n",
      "Data columns (total 17 columns):\n",
      " #   Column                                             Non-Null Count   Dtype  \n",
      "---  ------                                             --------------   -----  \n",
      " 0   VIN (1-10)                                         177473 non-null  object \n",
      " 1   County                                             177473 non-null  object \n",
      " 2   City                                               177473 non-null  object \n",
      " 3   State                                              177473 non-null  object \n",
      " 4   Postal Code                                        177473 non-null  float64\n",
      " 5   Model Year                                         177473 non-null  int64  \n",
      " 6   Make                                               177473 non-null  object \n",
      " 7   Model                                              177473 non-null  object \n",
      " 8   Electric Vehicle Type                              177473 non-null  object \n",
      " 9   Clean Alternative Fuel Vehicle (CAFV) Eligibility  177473 non-null  object \n",
      " 10  Electric Range                                     177473 non-null  int64  \n",
      " 11  Base MSRP                                          177473 non-null  int64  \n",
      " 12  Legislative District                               177473 non-null  float64\n",
      " 13  DOL Vehicle ID                                     177473 non-null  int64  \n",
      " 14  Vehicle Location                                   177473 non-null  object \n",
      " 15  Electric Utility                                   177473 non-null  object \n",
      " 16  2020 Census Tract                                  177473 non-null  float64\n",
      "dtypes: float64(3), int64(4), object(10)\n",
      "memory usage: 24.4+ MB\n"
     ]
    }
   ],
   "source": [
    "data.info()"
   ]
  },
  {
   "cell_type": "code",
   "execution_count": 13,
   "id": "5e8b5556-af3c-4ddf-83da-a0b474a8e847",
   "metadata": {},
   "outputs": [
    {
     "name": "stdout",
     "output_type": "stream",
     "text": [
      "Requirement already satisfied: seaborn in c:\\users\\chelseak\\appdata\\local\\anaconda3\\lib\\site-packages (0.12.2)\n",
      "Requirement already satisfied: numpy!=1.24.0,>=1.17 in c:\\users\\chelseak\\appdata\\local\\anaconda3\\lib\\site-packages (from seaborn) (1.26.4)\n",
      "Requirement already satisfied: pandas>=0.25 in c:\\users\\chelseak\\appdata\\local\\anaconda3\\lib\\site-packages (from seaborn) (2.1.4)\n",
      "Requirement already satisfied: matplotlib!=3.6.1,>=3.1 in c:\\users\\chelseak\\appdata\\local\\anaconda3\\lib\\site-packages (from seaborn) (3.8.0)\n",
      "Requirement already satisfied: contourpy>=1.0.1 in c:\\users\\chelseak\\appdata\\local\\anaconda3\\lib\\site-packages (from matplotlib!=3.6.1,>=3.1->seaborn) (1.2.0)\n",
      "Requirement already satisfied: cycler>=0.10 in c:\\users\\chelseak\\appdata\\local\\anaconda3\\lib\\site-packages (from matplotlib!=3.6.1,>=3.1->seaborn) (0.11.0)\n",
      "Requirement already satisfied: fonttools>=4.22.0 in c:\\users\\chelseak\\appdata\\local\\anaconda3\\lib\\site-packages (from matplotlib!=3.6.1,>=3.1->seaborn) (4.25.0)\n",
      "Requirement already satisfied: kiwisolver>=1.0.1 in c:\\users\\chelseak\\appdata\\local\\anaconda3\\lib\\site-packages (from matplotlib!=3.6.1,>=3.1->seaborn) (1.4.4)\n",
      "Requirement already satisfied: packaging>=20.0 in c:\\users\\chelseak\\appdata\\local\\anaconda3\\lib\\site-packages (from matplotlib!=3.6.1,>=3.1->seaborn) (23.1)\n",
      "Requirement already satisfied: pillow>=6.2.0 in c:\\users\\chelseak\\appdata\\local\\anaconda3\\lib\\site-packages (from matplotlib!=3.6.1,>=3.1->seaborn) (10.2.0)\n",
      "Requirement already satisfied: pyparsing>=2.3.1 in c:\\users\\chelseak\\appdata\\local\\anaconda3\\lib\\site-packages (from matplotlib!=3.6.1,>=3.1->seaborn) (3.0.9)\n",
      "Requirement already satisfied: python-dateutil>=2.7 in c:\\users\\chelseak\\appdata\\local\\anaconda3\\lib\\site-packages (from matplotlib!=3.6.1,>=3.1->seaborn) (2.8.2)\n",
      "Requirement already satisfied: pytz>=2020.1 in c:\\users\\chelseak\\appdata\\local\\anaconda3\\lib\\site-packages (from pandas>=0.25->seaborn) (2023.3.post1)\n",
      "Requirement already satisfied: tzdata>=2022.1 in c:\\users\\chelseak\\appdata\\local\\anaconda3\\lib\\site-packages (from pandas>=0.25->seaborn) (2023.3)\n",
      "Requirement already satisfied: six>=1.5 in c:\\users\\chelseak\\appdata\\local\\anaconda3\\lib\\site-packages (from python-dateutil>=2.7->matplotlib!=3.6.1,>=3.1->seaborn) (1.16.0)\n"
     ]
    }
   ],
   "source": [
    "!pip install seaborn"
   ]
  },
  {
   "cell_type": "code",
   "execution_count": null,
   "id": "88593c31-b762-4165-85bb-600bf13b60a6",
   "metadata": {},
   "outputs": [],
   "source": []
  },
  {
   "cell_type": "code",
   "execution_count": 14,
   "id": "ad8ce7c1-ca89-4019-9825-e31e63ed9b2d",
   "metadata": {},
   "outputs": [],
   "source": [
    "##Let’s start with analyzing the EV Adoption Over Time by visualizing the number of EVs registered by model year. \n",
    "#It will give us an insight into how the EV population has grown over the years\n"
   ]
  },
  {
   "cell_type": "code",
   "execution_count": 15,
   "id": "66c07156-db60-4a86-9d64-97702ccc9ec2",
   "metadata": {},
   "outputs": [
    {
     "data": {
      "text/plain": [
       "Model Year\n",
       "1997        1\n",
       "1998        1\n",
       "1999        5\n",
       "2000        7\n",
       "2002        2\n",
       "2003        1\n",
       "2008       19\n",
       "2010       23\n",
       "2011      775\n",
       "2012     1614\n",
       "2013     4399\n",
       "2014     3496\n",
       "2015     4826\n",
       "2016     5469\n",
       "2017     8534\n",
       "2018    14286\n",
       "2019    10913\n",
       "2020    11740\n",
       "2021    19063\n",
       "2022    27708\n",
       "2023    57519\n",
       "2024     7072\n",
       "Name: count, dtype: int64"
      ]
     },
     "execution_count": 15,
     "metadata": {},
     "output_type": "execute_result"
    },
    {
     "data": {
      "text/plain": [
       "<Figure size 1200x600 with 0 Axes>"
      ]
     },
     "metadata": {},
     "output_type": "display_data"
    }
   ],
   "source": [
    "plt.figure(figsize=(12, 6))\n",
    "ev_adoption_by_year = data['Model Year'].value_counts().sort_index()\n",
    "ev_adoption_by_year"
   ]
  },
  {
   "cell_type": "code",
   "execution_count": 16,
   "id": "20a6a299-7955-428c-9406-b60f5eb8dc4b",
   "metadata": {},
   "outputs": [
    {
     "data": {
      "text/plain": [
       "Model Year\n",
       "1997        1\n",
       "1998        1\n",
       "1999        5\n",
       "2000        7\n",
       "2002        2\n",
       "2003        1\n",
       "2008       19\n",
       "2010       23\n",
       "2011      775\n",
       "2012     1614\n",
       "2013     4399\n",
       "2014     3496\n",
       "2015     4826\n",
       "2016     5469\n",
       "2017     8534\n",
       "2018    14286\n",
       "2019    10913\n",
       "2020    11740\n",
       "2021    19063\n",
       "2022    27708\n",
       "Name: count, dtype: int64"
      ]
     },
     "execution_count": 16,
     "metadata": {},
     "output_type": "execute_result"
    }
   ],
   "source": [
    "x1 = ev_adoption_by_year[ev_adoption_by_year.index< 2023]\n",
    "x1"
   ]
  },
  {
   "cell_type": "code",
   "execution_count": 18,
   "id": "1a68d04b-261d-40e5-80d1-2b2785375cd4",
   "metadata": {},
   "outputs": [
    {
     "data": {
      "image/png": "[encoded data removed]",
      "text/plain": [
       "<Figure size 1200x600 with 1 Axes>"
      ]
     },
     "metadata": {},
     "output_type": "display_data"
    }
   ],
   "source": [
    "plt.figure(figsize = (12,6))\n",
    "sns.barplot(x = ev_adoption_by_year.index , y = ev_adoption_by_year.values , palette = 'viridis')\n",
    "plt.title(\"EV Adoption by Year\")\n",
    "plt.ylabel(\"Number of vehicles registered\")\n",
    "plt.xlabel(\"Model Year\")\n",
    "plt.xticks(rotation = 45)\n",
    "plt.tight_layout()\n",
    "plt.show()"
   ]
  },
  {
   "cell_type": "code",
   "execution_count": null,
   "id": "0e92592f-7763-4608-84cb-2ad0f19d9d4b",
   "metadata": {},
   "outputs": [],
   "source": []
  },
  {
   "cell_type": "code",
   "execution_count": null,
   "id": "9df4ba0a-2cdf-4c30-90a0-24241c4f7a09",
   "metadata": {},
   "outputs": [],
   "source": [
    "##Interpretation\n",
    "#Population of EVs has shown a sready increase from 2010 till 2023.\n",
    "#A very sharp increase is observed for 2023,which shows a significant peak in adoption of EVs.\n"
   ]
  },
  {
   "cell_type": "code",
   "execution_count": null,
   "id": "4ce912db-ce4f-4ee3-a738-59e133fe55ce",
   "metadata": {},
   "outputs": [],
   "source": []
  },
  {
   "cell_type": "code",
   "execution_count": 19,
   "id": "a7be00eb-285c-4bdd-a460-b75765ea6239",
   "metadata": {},
   "outputs": [],
   "source": [
    "##Now, let’s start by selecting the top 3 counties based on EV registrations and then analyze the distribution of EVs within the cities of those counties"
   ]
  },
  {
   "cell_type": "code",
   "execution_count": 20,
   "id": "148ea381-5daa-431f-aecc-4bfbf1561cca",
   "metadata": {},
   "outputs": [
    {
     "data": {
      "image/png": "[encoded data removed]",
      "text/plain": [
       "<Figure size 1000x600 with 1 Axes>"
      ]
     },
     "metadata": {},
     "output_type": "display_data"
    }
   ],
   "source": [
    "\n",
    "##Top 3 counties by ev registration\n",
    "\n",
    "##Staring with distribution of EV vehicles per county\n",
    "ev_county_distribution = data['County'].value_counts()\n",
    "top_counties = ev_county_distribution.head(3).index ## Top 3 counties\n",
    "\n",
    "##Filtering the complete dataset for the three counties(Whole Dataset)\n",
    "top_counties_data = data[data['County'].isin(top_counties)]\n",
    "\n",
    "# analyzing the distribution of EVs within the cities of these top counties\n",
    "ev_city_distribution = top_counties_data.groupby(['County' , 'City' ]).size().sort_values(ascending = False).reset_index(name = 'Number of Vehicles')\n",
    "\n",
    "##Top 10 Cities\n",
    "top_cities = ev_city_distribution.head(10)\n",
    "\n",
    "##Visualizing the top 10 cities\n",
    "\n",
    "plt.figure(figsize = (10,6))\n",
    "m1 = sns.barplot(data = top_cities , x = \"City\" , y = \"Number of Vehicles\" , hue = \"County\" , dodge = False , palette = \"magma\")\n",
    "m1.bar_label(m1.containers[0])\n",
    "plt.title(\"Distribution of vehicles registered by city in top 10 counties\")\n",
    "plt.xlabel(\"City\")\n",
    "plt.ylabel(\"Number of Vehicles Registered\")\n",
    "plt.tight_layout()\n",
    "plt.legend(title = \"Counties\")\n",
    "plt.show()\n"
   ]
  },
  {
   "cell_type": "code",
   "execution_count": null,
   "id": "34dcaf0d-570d-4db9-9feb-c55178db9c88",
   "metadata": {},
   "outputs": [],
   "source": []
  },
  {
   "cell_type": "code",
   "execution_count": null,
   "id": "a17edc76-5866-431f-9fdf-7b4a1b102e0a",
   "metadata": {},
   "outputs": [],
   "source": [
    "## Interpretation\n",
    "# King county has records of the highest number of EVs adopted  compared to Snohomish and Pierce.\n",
    "# Seattle in King County has significantly the highest number of EVs registered compared to toher cities in King County.\n",
    "# Among  the three counties,Tacoma city in Pierce county and Bothell city in Snohomish county have a higher number of registered EVs compared to other cities in the respecive counties. "
   ]
  },
  {
   "cell_type": "code",
   "execution_count": null,
   "id": "7ba3e79a-f44b-4951-87bb-7e9efaac50f4",
   "metadata": {},
   "outputs": [],
   "source": []
  },
  {
   "cell_type": "code",
   "execution_count": null,
   "id": "6b4a4089-4df1-40b8-b0e8-2a481578ade6",
   "metadata": {},
   "outputs": [],
   "source": []
  },
  {
   "cell_type": "code",
   "execution_count": 109,
   "id": "2a74257a-3c9b-4707-b96a-8557ba297773",
   "metadata": {},
   "outputs": [
    {
     "data": {
      "image/png": "[encoded data removed]",
      "text/plain": [
       "<Figure size 640x480 with 1 Axes>"
      ]
     },
     "metadata": {},
     "output_type": "display_data"
    }
   ],
   "source": [
    "##let’s visualize the distribution of electric vehicle types\n",
    "ev_type_distribution = data[\"Electric Vehicle Type\"].value_counts()\n",
    "sns.barplot(x = ev_type_distribution.index , y = ev_type_distribution.values , palette = \"magma\")\n",
    "plt.title(\"Distribution of electric vehicle type \")\n",
    "plt.xlabel(\"Type of electric vehicle\")\n",
    "plt.ylabel(\"Total number Of Vehicles registered\")\n",
    "plt.show()"
   ]
  },
  {
   "cell_type": "code",
   "execution_count": null,
   "id": "f84aff8e-6381-4592-add1-219e26673bfa",
   "metadata": {},
   "outputs": [],
   "source": [
    "##Interpretation\n",
    "\n",
    "#Battery electric vehicles are more popular compared to plug in hybrid electric vehicles,according to the bar chart."
   ]
  },
  {
   "cell_type": "code",
   "execution_count": null,
   "id": "9b15ed21-1ac2-433b-8486-5174edc693d4",
   "metadata": {},
   "outputs": [],
   "source": []
  },
  {
   "cell_type": "code",
   "execution_count": null,
   "id": "4bd1c93b-d8d6-46a6-acd4-6d0372fc9889",
   "metadata": {},
   "outputs": [],
   "source": [
    "##Let's check which EV Models are popular."
   ]
  },
  {
   "cell_type": "code",
   "execution_count": null,
   "id": "bb9c983a-6bf2-4da4-abcf-f3e0201e5a24",
   "metadata": {},
   "outputs": [],
   "source": []
  },
  {
   "cell_type": "code",
   "execution_count": 27,
   "id": "9369818b-881d-4fa6-bce3-bbd131c6cfbd",
   "metadata": {},
   "outputs": [
    {
     "data": {
      "image/png": "[encoded data removed]",
      "text/plain": [
       "<Figure size 1200x600 with 1 Axes>"
      ]
     },
     "metadata": {},
     "output_type": "display_data"
    }
   ],
   "source": [
    "##Let’s now focus on the popularity of electric vehicle manufacturers and models among the registered vehicles(top 10 makes)\n",
    "ev_make_distribution = data['Make'].value_counts().head(10)\n",
    "\n",
    "##Visualize it\n",
    "plt.figure(figsize = (12,6))\n",
    "m2 = sns.barplot(x = ev_make_distribution.index , y = ev_make_distribution.values , palette = \"cubehelix\")\n",
    "m2.bar_label(m2.containers[0])#Bar Labels\n",
    "plt.title(\"Distribution of make of electric vehicles \")\n",
    "plt.xlabel(\"Make of electric vehicle\")\n",
    "plt.ylabel(\"total number registered\")\n",
    "plt.tight_layout()\n",
    "plt.show()"
   ]
  },
  {
   "cell_type": "code",
   "execution_count": null,
   "id": "efb0be1b-52aa-49ba-a375-7191fac04aa4",
   "metadata": {},
   "outputs": [],
   "source": []
  },
  {
   "cell_type": "code",
   "execution_count": null,
   "id": "6c2079e3-9d36-4b21-97af-7363a700c16f",
   "metadata": {},
   "outputs": [],
   "source": [
    "##Interpretation\n",
    "# TESLA leads by a substantial margin with the highest number of vehicles registered.\n",
    "# NISSAN and CHEVROLET then follow with a significant number of registrations.\n",
    "# FORD, BMW, KIA, TOYOTA, VOLKSWAGEN, JEEP, and HYUNDAI follow in decreasing order of the number of registered vehicles"
   ]
  },
  {
   "cell_type": "code",
   "execution_count": null,
   "id": "f540ca84-50fb-42b0-b2d1-ce0d729458ef",
   "metadata": {},
   "outputs": [],
   "source": []
  },
  {
   "cell_type": "code",
   "execution_count": 29,
   "id": "5b46c332-9b2d-4aef-938d-56c0dce3adc1",
   "metadata": {},
   "outputs": [
    {
     "data": {
      "image/png": "[encoded data removed]",
      "text/plain": [
       "<Figure size 800x600 with 1 Axes>"
      ]
     },
     "metadata": {},
     "output_type": "display_data"
    }
   ],
   "source": [
    "##Next, let’s drill down into the most popular models within these top manufacturers(Top 3)\n",
    "top_3_makes = ev_make_distribution.head(3).index\n",
    "top_3_makes\n",
    "\n",
    "# filtering the dataset for these top manufacturers\n",
    "top_makes_data = data[data['Make'].isin(top_3_makes)]\n",
    "\n",
    "# analyzing the popularity of EV models within these top manufacturers\n",
    "ev_model_distribution_top_makes = top_makes_data.groupby(['Make' , 'Model']).size().sort_values(ascending = False).reset_index(name = 'Number of Vehicles')\n",
    "ev_model_distribution_top_makes \n",
    "\n",
    "# visualizing the top 10 models across these manufacturers for clarity\n",
    "top_models = ev_model_distribution_top_makes.head(10)\n",
    "top_models\n",
    "\n",
    "plt.figure(figsize = (8,6))\n",
    "sns.barplot(data = top_models , x = \"Model\" , y = \"Number of Vehicles\" , hue = \"Make\" , dodge = False , palette = \"viridis\")\n",
    "plt.title('Top Models in Top 3 Makes by EV Registrations')\n",
    "plt.xlabel('Model of the Vehicle')\n",
    "plt.ylabel('Number of Vehicles Registered')\n",
    "plt.legend(title = \"Vehicle Make\" )\n",
    "plt.tight_layout()\n",
    "plt.show()\n"
   ]
  },
  {
   "cell_type": "code",
   "execution_count": null,
   "id": "73a381b9-3eb3-4cb8-a5ec-d98bf83dce40",
   "metadata": {},
   "outputs": [],
   "source": [
    "#Interpretation\n",
    "# The two most registered Tesla models are Model Y and Model 3, with Model Y having the most registrations.\n",
    "# NISSAN'S Leaf follows closely by with a siginificant number of registrations.\n",
    "# TESLA’s MODEL S and MODEL X boast a notable number of registrations.\n",
    "# CHEVROLET’s BOLT EV and VOLT follow closely in the rankings with substantial registrations, with the BOLT EV trailing slightly behind."
   ]
  },
  {
   "cell_type": "code",
   "execution_count": null,
   "id": "f671266e-5918-44a4-bf65-a91a141ee97d",
   "metadata": {},
   "outputs": [],
   "source": []
  },
  {
   "cell_type": "code",
   "execution_count": null,
   "id": "657b4691-603e-4bd6-9601-ad2a74c33f1b",
   "metadata": {},
   "outputs": [],
   "source": [
    "# Lets explore the electric range of vehicles"
   ]
  },
  {
   "cell_type": "code",
   "execution_count": null,
   "id": "ad51bded-9ed8-425d-b27c-a1dbb9bebbf9",
   "metadata": {},
   "outputs": [],
   "source": []
  },
  {
   "cell_type": "code",
   "execution_count": 36,
   "id": "37d63313-0ca9-48ef-9f96-a52bf6502415",
   "metadata": {},
   "outputs": [
    {
     "name": "stderr",
     "output_type": "stream",
     "text": [
      "C:\\Users\\chelseak\\AppData\\Local\\anaconda3\\Lib\\site-packages\\seaborn\\_oldcore.py:1119: FutureWarning: use_inf_as_na option is deprecated and will be removed in a future version. Convert inf values to NaN before operating instead.\n",
      "  with pd.option_context('mode.use_inf_as_na', True):\n"
     ]
    },
    {
     "data": {
      "image/png": "[encoded data removed]",
      "text/plain": [
       "<Figure size 1200x600 with 1 Axes>"
      ]
     },
     "metadata": {},
     "output_type": "display_data"
    }
   ],
   "source": [
    "# analyzing the distribution of electric range\n",
    "plt.figure(figsize = (12,6))\n",
    "sns.histplot(data['Electric Range'] , bins = 30 , kde = True , color = \"blue\")\n",
    "plt.title('Distribution of Electric Vehicle Ranges')\n",
    "plt.xlabel('Electric Range in miles')\n",
    "plt.ylabel('Number of Vehicles')  \n",
    "plt.axvline(data['Electric Range'].mean(), color='red', linestyle='--', label=f'Mean Range: {data[\"Electric Range\"].mean():.2f} miles')\n",
    "plt.legend()\n",
    "plt.show()"
   ]
  },
  {
   "cell_type": "code",
   "execution_count": null,
   "id": "1f090c23-b54a-4d39-8749-6052fa457394",
   "metadata": {},
   "outputs": [],
   "source": []
  },
  {
   "cell_type": "code",
   "execution_count": null,
   "id": "319849da-c847-4aca-9e3a-66cbf75a4541",
   "metadata": {},
   "outputs": [],
   "source": [
    "#Interpretation\n",
    "# A large number of vehicles have a low electric range, with a notable concentration just below 50 miles.\n",
    "# The average electric range for this group is around 58.84 miles, which is considerably lower than the maximum ranges depicted in the graph\n",
    "# It suggests that while there are EVs available with high electric ranges, the average range is skewed lower due to a substantial number of vehicles with shorter ranges"
   ]
  },
  {
   "cell_type": "code",
   "execution_count": null,
   "id": "6eadf49c-333a-476b-af5a-06dfa8faba95",
   "metadata": {},
   "outputs": [],
   "source": []
  },
  {
   "cell_type": "code",
   "execution_count": null,
   "id": "23e72e19-090e-45e5-95fa-8edbe21d3180",
   "metadata": {},
   "outputs": [],
   "source": []
  },
  {
   "cell_type": "code",
   "execution_count": null,
   "id": "046a4c26-dfeb-4209-be6b-2c0f1c64b292",
   "metadata": {},
   "outputs": [],
   "source": [
    "# Trend of electric ranges over model years"
   ]
  },
  {
   "cell_type": "code",
   "execution_count": 39,
   "id": "74d993c9-c164-43b2-ad7d-864344d6f8b2",
   "metadata": {},
   "outputs": [
    {
     "name": "stderr",
     "output_type": "stream",
     "text": [
      "C:\\Users\\chelseak\\AppData\\Local\\anaconda3\\Lib\\site-packages\\seaborn\\_oldcore.py:1119: FutureWarning: use_inf_as_na option is deprecated and will be removed in a future version. Convert inf values to NaN before operating instead.\n",
      "  with pd.option_context('mode.use_inf_as_na', True):\n",
      "C:\\Users\\chelseak\\AppData\\Local\\anaconda3\\Lib\\site-packages\\seaborn\\_oldcore.py:1119: FutureWarning: use_inf_as_na option is deprecated and will be removed in a future version. Convert inf values to NaN before operating instead.\n",
      "  with pd.option_context('mode.use_inf_as_na', True):\n"
     ]
    },
    {
     "data": {
      "image/png": "[encoded data removed]",
      "text/plain": [
       "<Figure size 1200x600 with 1 Axes>"
      ]
     },
     "metadata": {},
     "output_type": "display_data"
    }
   ],
   "source": [
    "plt.figure(figsize  = (12,6))\n",
    "sns.lineplot(x = \"Model Year\" , y = \"Electric Range\" , data = average_range_by_year , marker='o', color='green')\n",
    "plt.title('Average Electric Range by Model Year')\n",
    "plt.xlabel('Model Year')\n",
    "plt.ylabel('Average Electric Range (miles)')\n",
    "plt.grid(True)\n",
    "plt.show()"
   ]
  },
  {
   "cell_type": "code",
   "execution_count": null,
   "id": "a5c3215a-a8e4-4ae7-b600-90a8558fc7ed",
   "metadata": {},
   "outputs": [],
   "source": []
  },
  {
   "cell_type": "code",
   "execution_count": null,
   "id": "5dfc6d56-5c0b-49fb-bd94-bafba39229f7",
   "metadata": {},
   "outputs": [],
   "source": [
    "# Interpretation\n",
    "# There is a general upward trend in the average electric range of EVs over the years, indicating improvements in technology and battery efficiency.\n",
    "# There is a noticeable peak around the year 2020 when the average range reaches its highest point.\n"
   ]
  },
  {
   "cell_type": "code",
   "execution_count": null,
   "id": "5d40e8ec-a49b-4ad9-be3a-a408cdbba421",
   "metadata": {},
   "outputs": [],
   "source": []
  },
  {
   "cell_type": "code",
   "execution_count": 40,
   "id": "29ad8672-c549-4c75-a9d2-bd9481af2ce6",
   "metadata": {},
   "outputs": [
    {
     "data": {
      "image/png": "[encoded data removed]",
      "text/plain": [
       "<Figure size 1000x800 with 1 Axes>"
      ]
     },
     "metadata": {},
     "output_type": "display_data"
    }
   ],
   "source": [
    "average_range_by_model = top_makes_data.groupby(['Make' , 'Model'])[\"Electric Range\"].mean().sort_values(ascending = False).reset_index()\n",
    "average_range_by_model\n",
    "\n",
    "##Filter top 10 models with the highest electric range\n",
    "top_range_models = average_range_by_model.head(10)\n",
    "top_range_models\n",
    "\n",
    "plt.figure(figsize=(10, 8))\n",
    "sns.barplot(x = \"Model\" , y = \"Electric Range\" , hue = \"Make\" , data = top_range_models , dodge = False , palette = \"cool\")\n",
    "plt.title('Top 10 Models by Average Electric Range in Top Makes')\n",
    "plt.xlabel('Average Electric Range (miles)')\n",
    "plt.ylabel('Model')\n",
    "plt.legend(title='Makes')\n",
    "plt.show()"
   ]
  },
  {
   "cell_type": "code",
   "execution_count": null,
   "id": "f4168f95-0f55-4d88-8bdf-15b391f75d5b",
   "metadata": {},
   "outputs": [],
   "source": []
  },
  {
   "cell_type": "code",
   "execution_count": null,
   "id": "e1bd0647-1bbb-4641-aac5-59640f45fd83",
   "metadata": {},
   "outputs": [],
   "source": [
    "#Interpretation\n",
    "# The TESLA ROADSTER boasts the highest average electric range among the listed models. \n",
    "# TESLA’s vehicles, including the ROADSTER, MODEL S, MODEL X, and MODEL 3, dominate the top positions, suggesting that, on average, TESLA’s cars offer longer electric ranges. \n",
    "# The CHEVROLET BOLT EV stands out within the CHEVROLET lineup, offering a significantly higher range compared to the VOLT and S-10 PICKUP models. \n",
    "# Meanwhile, NISSAN’s LEAF and CHEVROLET’s SPARK are positioned in the lower half of the chart, indicating that they have more modest average ranges."
   ]
  },
  {
   "cell_type": "code",
   "execution_count": null,
   "id": "03334d80-c6ff-4309-99f3-e95625187d22",
   "metadata": {},
   "outputs": [],
   "source": []
  },
  {
   "cell_type": "code",
   "execution_count": null,
   "id": "42f75a0e-32fb-40c8-8dda-6b3444d3b0e2",
   "metadata": {},
   "outputs": [],
   "source": []
  },
  {
   "cell_type": "code",
   "execution_count": null,
   "id": "e781e59e-a159-4048-ab52-735d9057ccbe",
   "metadata": {},
   "outputs": [],
   "source": [
    "# Finding the estimated market size of electric vehicles in the United States."
   ]
  },
  {
   "cell_type": "code",
   "execution_count": null,
   "id": "8a3f5fba-bdcc-4468-9c5b-84d7b24728fe",
   "metadata": {},
   "outputs": [],
   "source": []
  },
  {
   "cell_type": "code",
   "execution_count": 42,
   "id": "7c31ffdc-c736-4c30-bad0-4900ec5448b4",
   "metadata": {},
   "outputs": [
    {
     "data": {
      "text/html": [
       "<div>\n",
       "<style scoped>\n",
       "    .dataframe tbody tr th:only-of-type {\n",
       "        vertical-align: middle;\n",
       "    }\n",
       "\n",
       "    .dataframe tbody tr th {\n",
       "        vertical-align: top;\n",
       "    }\n",
       "\n",
       "    .dataframe thead th {\n",
       "        text-align: right;\n",
       "    }\n",
       "</style>\n",
       "<table border=\"1\" class=\"dataframe\">\n",
       "  <thead>\n",
       "    <tr style=\"text-align: right;\">\n",
       "      <th></th>\n",
       "      <th>Model Year</th>\n",
       "      <th>Total EVS registered</th>\n",
       "    </tr>\n",
       "  </thead>\n",
       "  <tbody>\n",
       "    <tr>\n",
       "      <th>0</th>\n",
       "      <td>1997</td>\n",
       "      <td>1</td>\n",
       "    </tr>\n",
       "    <tr>\n",
       "      <th>1</th>\n",
       "      <td>1998</td>\n",
       "      <td>1</td>\n",
       "    </tr>\n",
       "    <tr>\n",
       "      <th>2</th>\n",
       "      <td>1999</td>\n",
       "      <td>5</td>\n",
       "    </tr>\n",
       "    <tr>\n",
       "      <th>3</th>\n",
       "      <td>2000</td>\n",
       "      <td>7</td>\n",
       "    </tr>\n",
       "    <tr>\n",
       "      <th>4</th>\n",
       "      <td>2002</td>\n",
       "      <td>2</td>\n",
       "    </tr>\n",
       "    <tr>\n",
       "      <th>5</th>\n",
       "      <td>2003</td>\n",
       "      <td>1</td>\n",
       "    </tr>\n",
       "    <tr>\n",
       "      <th>6</th>\n",
       "      <td>2008</td>\n",
       "      <td>19</td>\n",
       "    </tr>\n",
       "    <tr>\n",
       "      <th>7</th>\n",
       "      <td>2010</td>\n",
       "      <td>23</td>\n",
       "    </tr>\n",
       "    <tr>\n",
       "      <th>8</th>\n",
       "      <td>2011</td>\n",
       "      <td>775</td>\n",
       "    </tr>\n",
       "    <tr>\n",
       "      <th>9</th>\n",
       "      <td>2012</td>\n",
       "      <td>1614</td>\n",
       "    </tr>\n",
       "    <tr>\n",
       "      <th>10</th>\n",
       "      <td>2013</td>\n",
       "      <td>4399</td>\n",
       "    </tr>\n",
       "    <tr>\n",
       "      <th>11</th>\n",
       "      <td>2014</td>\n",
       "      <td>3496</td>\n",
       "    </tr>\n",
       "    <tr>\n",
       "      <th>12</th>\n",
       "      <td>2015</td>\n",
       "      <td>4826</td>\n",
       "    </tr>\n",
       "    <tr>\n",
       "      <th>13</th>\n",
       "      <td>2016</td>\n",
       "      <td>5469</td>\n",
       "    </tr>\n",
       "    <tr>\n",
       "      <th>14</th>\n",
       "      <td>2017</td>\n",
       "      <td>8534</td>\n",
       "    </tr>\n",
       "    <tr>\n",
       "      <th>15</th>\n",
       "      <td>2018</td>\n",
       "      <td>14286</td>\n",
       "    </tr>\n",
       "    <tr>\n",
       "      <th>16</th>\n",
       "      <td>2019</td>\n",
       "      <td>10913</td>\n",
       "    </tr>\n",
       "    <tr>\n",
       "      <th>17</th>\n",
       "      <td>2020</td>\n",
       "      <td>11740</td>\n",
       "    </tr>\n",
       "    <tr>\n",
       "      <th>18</th>\n",
       "      <td>2021</td>\n",
       "      <td>19063</td>\n",
       "    </tr>\n",
       "    <tr>\n",
       "      <th>19</th>\n",
       "      <td>2022</td>\n",
       "      <td>27708</td>\n",
       "    </tr>\n",
       "    <tr>\n",
       "      <th>20</th>\n",
       "      <td>2023</td>\n",
       "      <td>57519</td>\n",
       "    </tr>\n",
       "    <tr>\n",
       "      <th>21</th>\n",
       "      <td>2024</td>\n",
       "      <td>7072</td>\n",
       "    </tr>\n",
       "  </tbody>\n",
       "</table>\n",
       "</div>"
      ],
      "text/plain": [
       "    Model Year  Total EVS registered\n",
       "0         1997                     1\n",
       "1         1998                     1\n",
       "2         1999                     5\n",
       "3         2000                     7\n",
       "4         2002                     2\n",
       "5         2003                     1\n",
       "6         2008                    19\n",
       "7         2010                    23\n",
       "8         2011                   775\n",
       "9         2012                  1614\n",
       "10        2013                  4399\n",
       "11        2014                  3496\n",
       "12        2015                  4826\n",
       "13        2016                  5469\n",
       "14        2017                  8534\n",
       "15        2018                 14286\n",
       "16        2019                 10913\n",
       "17        2020                 11740\n",
       "18        2021                 19063\n",
       "19        2022                 27708\n",
       "20        2023                 57519\n",
       "21        2024                  7072"
      ]
     },
     "execution_count": 42,
     "metadata": {},
     "output_type": "execute_result"
    }
   ],
   "source": [
    "# calculate the number of EVs registered each year\n",
    "ev_registration_counts = data['Model Year'].value_counts().sort_index(ascending = True).reset_index(name = 'Total EVS registered')\n",
    "ev_registration_counts"
   ]
  },
  {
   "cell_type": "code",
   "execution_count": null,
   "id": "822745bf-3d77-47d8-85a8-ba6aa4815901",
   "metadata": {},
   "outputs": [],
   "source": []
  },
  {
   "cell_type": "code",
   "execution_count": 58,
   "id": "32ba65d0-316f-44ec-b392-f907c3a7a6ea",
   "metadata": {},
   "outputs": [
    {
     "data": {
      "text/plain": [
       "Model Year\n",
       "1997        1\n",
       "1998        1\n",
       "1999        5\n",
       "2000        7\n",
       "2002        2\n",
       "2003        1\n",
       "2008       19\n",
       "2010       23\n",
       "2011      775\n",
       "2012     1614\n",
       "2013     4399\n",
       "2014     3496\n",
       "2015     4826\n",
       "2016     5469\n",
       "2017     8534\n",
       "2018    14286\n",
       "2019    10913\n",
       "2020    11740\n",
       "2021    19063\n",
       "2022    27708\n",
       "2023    57519\n",
       "2024     7072\n",
       "Name: count, dtype: int64"
      ]
     },
     "execution_count": 58,
     "metadata": {},
     "output_type": "execute_result"
    }
   ],
   "source": [
    "# calculate the number of EVs registered each year\n",
    "ev_registration_counts1 = data['Model Year'].value_counts().sort_index()\n",
    "ev_registration_counts1"
   ]
  },
  {
   "cell_type": "code",
   "execution_count": 43,
   "id": "a3f421a1-0276-411d-a8e2-021d064d8797",
   "metadata": {},
   "outputs": [],
   "source": [
    "from scipy.optimize import curve_fit\n",
    "import numpy as np"
   ]
  },
  {
   "cell_type": "code",
   "execution_count": 62,
   "id": "55652716-5279-4e8f-b274-f298da35315f",
   "metadata": {},
   "outputs": [
    {
     "data": {
      "text/plain": [
       "Model Year\n",
       "1997        1\n",
       "1998        1\n",
       "1999        5\n",
       "2000        7\n",
       "2002        2\n",
       "2003        1\n",
       "2008       19\n",
       "2010       23\n",
       "2011      775\n",
       "2012     1614\n",
       "2013     4399\n",
       "2014     3496\n",
       "2015     4826\n",
       "2016     5469\n",
       "2017     8534\n",
       "2018    14286\n",
       "2019    10913\n",
       "2020    11740\n",
       "2021    19063\n",
       "2022    27708\n",
       "2023    57519\n",
       "Name: count, dtype: int64"
      ]
     },
     "execution_count": 62,
     "metadata": {},
     "output_type": "execute_result"
    }
   ],
   "source": [
    "##oooor\n",
    "filtered_years = ev_registration_counts1[ev_registration_counts1.index <= 2023]\n",
    "filtered_years"
   ]
  },
  {
   "cell_type": "code",
   "execution_count": 63,
   "id": "f22a06fd-65f7-4aa2-b569-f5b7c306ed31",
   "metadata": {},
   "outputs": [],
   "source": [
    "# define a function for exponential growth to fit the data\n",
    "def exp_growth(x, a, b):\n",
    "    return a * np.exp(b * x)"
   ]
  },
  {
   "cell_type": "code",
   "execution_count": 64,
   "id": "680edbed-4f10-4d96-a494-48b1f00e90ec",
   "metadata": {},
   "outputs": [
    {
     "name": "stdout",
     "output_type": "stream",
     "text": [
      "{2024: 79079.20808938889, 2025: 119653.96274428742, 2026: 181047.22020265696, 2027: 273940.74706208805, 2028: 414497.01805382164, 2029: 627171.3128407666}\n"
     ]
    }
   ],
   "source": [
    "# prepare the data for curve fitting\n",
    "x_data = filtered_years.index - filtered_years.index.min()\n",
    "y_data = filtered_years.values\n",
    "\n"
   ]
  },
  {
   "cell_type": "code",
   "execution_count": 65,
   "id": "d2661b16-a23d-4913-91ee-760c8d3ad68b",
   "metadata": {},
   "outputs": [
    {
     "name": "stdout",
     "output_type": "stream",
     "text": [
      "Index([0, 1, 2, 3, 5, 6, 11, 13, 14, 15, 16, 17, 18, 19, 20, 21, 22, 23, 24,\n",
      "       25, 26],\n",
      "      dtype='int64', name='Model Year')\n"
     ]
    }
   ],
   "source": [
    "x_data = filtered_years.index - filtered_years.index.min()\n",
    "print(x_data)"
   ]
  },
  {
   "cell_type": "code",
   "execution_count": 66,
   "id": "ac8fc174-91bc-4572-a733-3524cbba4243",
   "metadata": {},
   "outputs": [
    {
     "name": "stdout",
     "output_type": "stream",
     "text": [
      "[    1     1     5     7     2     1    19    23   775  1614  4399  3496\n",
      "  4826  5469  8534 14286 10913 11740 19063 27708 57519]\n"
     ]
    }
   ],
   "source": [
    "y_data = filtered_years.values\n",
    "print(y_data)"
   ]
  },
  {
   "cell_type": "code",
   "execution_count": 67,
   "id": "7a2c9ffe-7c04-4ecf-b382-33f735bf3f77",
   "metadata": {},
   "outputs": [],
   "source": [
    "# fit the data to the exponential growth function\n",
    "params, covariance = curve_fit(exp_growth, x_data, y_data)"
   ]
  },
  {
   "cell_type": "code",
   "execution_count": 68,
   "id": "2ae7cbe4-89bb-43ed-9172-fd88e622571a",
   "metadata": {},
   "outputs": [
    {
     "name": "stdout",
     "output_type": "stream",
     "text": [
      "1.100812604484858\n",
      "0.4141539490653247\n"
     ]
    }
   ],
   "source": [
    "a22 = params[0]\n",
    "a23 = params[1]\n",
    "print(a22)\n",
    "print(a23)"
   ]
  },
  {
   "cell_type": "code",
   "execution_count": 69,
   "id": "b9e6ac02-eebd-47ae-a79f-4ba7ab7d5b48",
   "metadata": {},
   "outputs": [
    {
     "name": "stdout",
     "output_type": "stream",
     "text": [
      "[ 1.28914317 -0.04634423]\n",
      "[-0.04634423  0.00166966]\n"
     ]
    }
   ],
   "source": [
    "a24 = covariance[0]\n",
    "a25 = covariance[1]\n",
    "print(a24)\n",
    "print(a25)"
   ]
  },
  {
   "cell_type": "code",
   "execution_count": null,
   "id": "3412deb0-50f6-431d-a759-f7d17bf093ff",
   "metadata": {},
   "outputs": [],
   "source": []
  },
  {
   "cell_type": "code",
   "execution_count": null,
   "id": "5e7161cd-9348-4c96-8802-493d2a568611",
   "metadata": {},
   "outputs": [],
   "source": [
    "\n",
    "# use the fitted function to forecast the number of EVs for 2024 and the next five years\n",
    "forecast_years = np.arange(2024, 2024 + 6) - filtered_years.index.min()\n",
    "forecasted_values = exp_growth(forecast_years, *params)\n",
    "\n"
   ]
  },
  {
   "cell_type": "code",
   "execution_count": 86,
   "id": "a8746523-cf48-4dd5-b2a6-c4630f4e2e4f",
   "metadata": {},
   "outputs": [
    {
     "name": "stdout",
     "output_type": "stream",
     "text": [
      "{2024: 79079.20808938889, 2025: 119653.96274428742, 2026: 181047.22020265696, 2027: 273940.74706208805, 2028: 414497.01805382164, 2029: 627171.3128407666}\n"
     ]
    }
   ],
   "source": [
    "# use the fitted function to forecast the number of EVs for 2024 and the next five years\n",
    "forecast_years = np.arange(2024, 2024 + 6) - filtered_years.index.min()\n",
    "forecasted_values = exp_growth(forecast_years, *params)\n",
    "\n",
    "# create a dictionary to display the forecasted values for easier interpretation\n",
    "forecasted_evs = dict(zip(forecast_years + filtered_years.index.min(), forecasted_values))\n",
    "\n",
    "print(forecasted_evs)\n",
    "\n",
    "\n"
   ]
  },
  {
   "cell_type": "code",
   "execution_count": 46,
   "id": "07205849-75ce-4012-9219-1640eb236a14",
   "metadata": {},
   "outputs": [],
   "source": []
  },
  {
   "cell_type": "code",
   "execution_count": 87,
   "id": "6b26341a-cad0-471f-ae03-fb5a9971e5fe",
   "metadata": {},
   "outputs": [
    {
     "name": "stdout",
     "output_type": "stream",
     "text": [
      "[1997 1998 1999 2000 2001 2002 2003 2004 2005 2006 2007 2008 2009 2010\n",
      " 2011 2012 2013 2014 2015 2016 2017 2018 2019 2020 2021 2022 2023 2024\n",
      " 2025 2026 2027 2028 2029]\n"
     ]
    }
   ],
   "source": [
    "# prepare data for plotting\n",
    "years = np.arange(filtered_years.index.min(), 2029 + 1)\n",
    "print(years)"
   ]
  },
  {
   "cell_type": "code",
   "execution_count": null,
   "id": "2099f6ca-4f0b-454f-be3c-2c521f5921b3",
   "metadata": {},
   "outputs": [],
   "source": []
  },
  {
   "cell_type": "code",
   "execution_count": 92,
   "id": "610c5f4c-6732-4807-adc1-d876125877b6",
   "metadata": {},
   "outputs": [
    {
     "data": {
      "text/plain": [
       "Model Year\n",
       "1997        1\n",
       "1998        1\n",
       "1999        5\n",
       "2000        7\n",
       "2002        2\n",
       "2003        1\n",
       "2008       19\n",
       "2010       23\n",
       "2011      775\n",
       "2012     1614\n",
       "2013     4399\n",
       "2014     3496\n",
       "2015     4826\n",
       "2016     5469\n",
       "2017     8534\n",
       "2018    14286\n",
       "2019    10913\n",
       "2020    11740\n",
       "2021    19063\n",
       "2022    27708\n",
       "2023    57519\n",
       "Name: count, dtype: int64"
      ]
     },
     "execution_count": 92,
     "metadata": {},
     "output_type": "execute_result"
    }
   ],
   "source": [
    "filtered_years"
   ]
  },
  {
   "cell_type": "code",
   "execution_count": 88,
   "id": "29dc33ca-a67b-40e9-aa09-046a45f894dc",
   "metadata": {},
   "outputs": [
    {
     "data": {
      "text/plain": [
       "Index([1997, 1998, 1999, 2000, 2002, 2003, 2008, 2010, 2011, 2012, 2013, 2014,\n",
       "       2015, 2016, 2017, 2018, 2019, 2020, 2021, 2022, 2023],\n",
       "      dtype='int64', name='Model Year')"
      ]
     },
     "execution_count": 88,
     "metadata": {},
     "output_type": "execute_result"
    }
   ],
   "source": [
    "actual_years = filtered_years.index\n",
    "actual_years\n"
   ]
  },
  {
   "cell_type": "code",
   "execution_count": 89,
   "id": "d957bff6-81bc-4d40-80f6-a85c4b0072a2",
   "metadata": {},
   "outputs": [
    {
     "data": {
      "text/plain": [
       "array([2024, 2025, 2026, 2027, 2028, 2029])"
      ]
     },
     "execution_count": 89,
     "metadata": {},
     "output_type": "execute_result"
    }
   ],
   "source": [
    "forecast_years_full = np.arange(2024, 2029 + 1)\n",
    "forecast_years_full"
   ]
  },
  {
   "cell_type": "code",
   "execution_count": 91,
   "id": "201ffdf1-aa62-4d5b-a2b7-d988d1f60b8f",
   "metadata": {},
   "outputs": [
    {
     "data": {
      "text/plain": [
       "array([2024, 2025, 2026, 2027, 2028, 2029, 2030])"
      ]
     },
     "execution_count": 91,
     "metadata": {},
     "output_type": "execute_result"
    }
   ],
   "source": []
  },
  {
   "cell_type": "code",
   "execution_count": 93,
   "id": "ee7a740a-cf07-47ba-8ff0-835156691dc6",
   "metadata": {},
   "outputs": [
    {
     "data": {
      "text/plain": [
       "array([    1,     1,     5,     7,     2,     1,    19,    23,   775,\n",
       "        1614,  4399,  3496,  4826,  5469,  8534, 14286, 10913, 11740,\n",
       "       19063, 27708, 57519], dtype=int64)"
      ]
     },
     "execution_count": 93,
     "metadata": {},
     "output_type": "execute_result"
    }
   ],
   "source": [
    "# actual and forecasted values\n",
    "actual_values = filtered_years.values\n",
    "actual_values"
   ]
  },
  {
   "cell_type": "code",
   "execution_count": null,
   "id": "2a93be0a-9352-4504-a420-2c2b44f7292c",
   "metadata": {},
   "outputs": [],
   "source": []
  },
  {
   "cell_type": "code",
   "execution_count": 94,
   "id": "1fb805cd-80bb-47b5-853f-aae823c7eeec",
   "metadata": {},
   "outputs": [
    {
     "data": {
      "text/plain": [
       "[79079.20808938889,\n",
       " 119653.96274428742,\n",
       " 181047.22020265696,\n",
       " 273940.74706208805,\n",
       " 414497.01805382164,\n",
       " 627171.3128407666]"
      ]
     },
     "execution_count": 94,
     "metadata": {},
     "output_type": "execute_result"
    }
   ],
   "source": [
    "forecasted_values_full = [forecasted_evs[year] for year in forecast_years_full]\n",
    "forecasted_values_full"
   ]
  },
  {
   "cell_type": "code",
   "execution_count": null,
   "id": "e438d329-6221-487c-bf3f-09dbf9f3533e",
   "metadata": {},
   "outputs": [],
   "source": []
  },
  {
   "cell_type": "code",
   "execution_count": 106,
   "id": "902fde95-83d9-442a-855c-4b36f0f0f117",
   "metadata": {},
   "outputs": [
    {
     "data": {
      "image/png": "[encoded data removed]",
      "text/plain": [
       "<Figure size 1200x800 with 1 Axes>"
      ]
     },
     "metadata": {},
     "output_type": "display_data"
    }
   ],
   "source": [
    "# Plot of Current and Estmimated market of Electric Vehicles\n",
    "\n",
    "plt.figure(figsize=(12, 8))\n",
    "plt.plot(actual_years, actual_values, 'bo-', label='Actual Registrations')\n",
    "plt.plot(forecast_years_full, forecasted_values_full, 'ro--', label='Forecasted Registrations')\n",
    "plt.title('Current & Estimated EV Market')\n",
    "plt.xlabel('Year')\n",
    "plt.ylabel('Number of EV Registrations')\n",
    "plt.legend()\n",
    "plt.grid(True)\n",
    "\n",
    "plt.show()\n"
   ]
  },
  {
   "cell_type": "code",
   "execution_count": null,
   "id": "65f10153-f269-4958-b2c9-50078dfbc640",
   "metadata": {},
   "outputs": [],
   "source": []
  },
  {
   "cell_type": "code",
   "execution_count": null,
   "id": "ee034bcd-2685-45f1-ab68-152baa811de5",
   "metadata": {},
   "outputs": [],
   "source": [
    "##Interpretation\n",
    "# Actual EV registrations stayed relatively low and stable until around 2010, after which there was a steady and steep rise, indicating a marked increase in EV adoption. \n",
    "# Forecasts suggest an even more substantial growth in the near future, with registrations expected to surge significantly in the coming years.\n"
   ]
  },
  {
   "cell_type": "code",
   "execution_count": null,
   "id": "25cb0dd1-d3ab-48d8-a436-6244064c2ced",
   "metadata": {},
   "outputs": [],
   "source": []
  },
  {
   "cell_type": "code",
   "execution_count": null,
   "id": "12bd16df-3d75-425c-8f4a-f3f505073a41",
   "metadata": {},
   "outputs": [],
   "source": []
  },
  {
   "cell_type": "code",
   "execution_count": null,
   "id": "5520eb75-7aa7-4f77-a885-fc527a58b8a5",
   "metadata": {},
   "outputs": [],
   "source": []
  },
  {
   "cell_type": "code",
   "execution_count": null,
   "id": "f1bcd547-6bd8-4463-93e5-7de50387d000",
   "metadata": {},
   "outputs": [],
   "source": []
  },
  {
   "cell_type": "code",
   "execution_count": null,
   "id": "843d30b0-de5f-456a-b88e-17f84107fdf9",
   "metadata": {},
   "outputs": [],
   "source": []
  },
  {
   "cell_type": "code",
   "execution_count": null,
   "id": "bee194cb-5898-49d0-9e40-a46a73e1d8cc",
   "metadata": {},
   "outputs": [],
   "source": []
  },
  {
   "cell_type": "code",
   "execution_count": null,
   "id": "e04dadb1-e8a2-4c72-93d1-05b694be30ea",
   "metadata": {},
   "outputs": [],
   "source": []
  },
  {
   "cell_type": "code",
   "execution_count": null,
   "id": "779e82e7-6f89-4426-bd70-1f9bc5efdac9",
   "metadata": {},
   "outputs": [],
   "source": []
  },
  {
   "cell_type": "code",
   "execution_count": null,
   "id": "6201ab81-a60f-4191-807c-8d3a48bf3ad5",
   "metadata": {},
   "outputs": [],
   "source": []
  },
  {
   "cell_type": "code",
   "execution_count": null,
   "id": "d4c146e0-8523-4134-8c3f-7cb4fe6d1079",
   "metadata": {},
   "outputs": [],
   "source": []
  },
  {
   "cell_type": "code",
   "execution_count": null,
   "id": "2c59eaa1-ccda-4d75-b68f-98d06b5506a8",
   "metadata": {},
   "outputs": [],
   "source": []
  },
  {
   "cell_type": "code",
   "execution_count": null,
   "id": "c0299548-cbc2-46f2-9c29-b5b9ba2bd206",
   "metadata": {},
   "outputs": [],
   "source": []
  },
  {
   "cell_type": "code",
   "execution_count": null,
   "id": "a5ca35dd-0855-4cbe-94fa-53b5b4df3ab0",
   "metadata": {},
   "outputs": [],
   "source": []
  },
  {
   "cell_type": "code",
   "execution_count": null,
   "id": "5cf96e83-a4e0-42d1-b70e-7ac4d7ab296f",
   "metadata": {},
   "outputs": [],
   "source": []
  },
  {
   "cell_type": "code",
   "execution_count": null,
   "id": "f912352c-b6ec-4901-a06c-56400de1d960",
   "metadata": {},
   "outputs": [],
   "source": []
  },
  {
   "cell_type": "code",
   "execution_count": null,
   "id": "4b1d6eed-ed95-46a8-aef3-e4681bcef552",
   "metadata": {},
   "outputs": [],
   "source": []
  },
  {
   "cell_type": "code",
   "execution_count": null,
   "id": "18b0a1fb-e7c3-4b3b-83b0-d84e3e2c358b",
   "metadata": {},
   "outputs": [],
   "source": []
  },
  {
   "cell_type": "code",
   "execution_count": null,
   "id": "59f6f8c5-fa8c-4af5-8934-5cf81846f3fb",
   "metadata": {},
   "outputs": [],
   "source": []
  },
  {
   "cell_type": "code",
   "execution_count": null,
   "id": "aee7ac67-7457-4311-aaac-90a0f8804e1f",
   "metadata": {},
   "outputs": [],
   "source": []
  },
  {
   "cell_type": "code",
   "execution_count": null,
   "id": "2358ac62-e552-473b-8967-540b5dd4556f",
   "metadata": {},
   "outputs": [],
   "source": []
  },
  {
   "cell_type": "code",
   "execution_count": null,
   "id": "aa62be78-a55f-4293-aad7-ecc6c33e6c02",
   "metadata": {},
   "outputs": [],
   "source": []
  },
  {
   "cell_type": "code",
   "execution_count": null,
   "id": "6d04570e-18bc-4397-a12f-9e62a5f694df",
   "metadata": {},
   "outputs": [],
   "source": []
  },
  {
   "cell_type": "code",
   "execution_count": null,
   "id": "eef0f4f0-44a4-4cc5-9e69-85bf50107add",
   "metadata": {},
   "outputs": [],
   "source": []
  },
  {
   "cell_type": "code",
   "execution_count": null,
   "id": "9132d4ed-0c7c-4417-a5fe-e31a83d0c59a",
   "metadata": {},
   "outputs": [],
   "source": []
  },
  {
   "cell_type": "code",
   "execution_count": null,
   "id": "1c8de7fc-fb08-4e58-9aed-73da1f1adcc6",
   "metadata": {},
   "outputs": [],
   "source": []
  },
  {
   "cell_type": "code",
   "execution_count": null,
   "id": "bcf783c9-b833-4a94-9544-4c9fbac689e3",
   "metadata": {},
   "outputs": [],
   "source": []
  },
  {
   "cell_type": "code",
   "execution_count": null,
   "id": "822c355f-7f7c-4db1-bd7f-3f9cce7d28b8",
   "metadata": {},
   "outputs": [],
   "source": []
  },
  {
   "cell_type": "code",
   "execution_count": null,
   "id": "e63797dc-0d19-4ffe-a5ed-394999b8c406",
   "metadata": {},
   "outputs": [],
   "source": []
  },
  {
   "cell_type": "code",
   "execution_count": null,
   "id": "0ab36e68-7ecf-406f-8918-d902a48861ca",
   "metadata": {},
   "outputs": [],
   "source": []
  },
  {
   "cell_type": "code",
   "execution_count": null,
   "id": "30a17623-8465-4b3c-91b9-2e009adb1cbb",
   "metadata": {},
   "outputs": [],
   "source": []
  },
  {
   "cell_type": "code",
   "execution_count": null,
   "id": "abe6fae8-b1aa-4ce2-a2b1-9d65547da4bb",
   "metadata": {},
   "outputs": [],
   "source": []
  },
  {
   "cell_type": "code",
   "execution_count": null,
   "id": "5444df42-5ed0-4d8e-8540-43f78b47910c",
   "metadata": {},
   "outputs": [],
   "source": []
  },
  {
   "cell_type": "code",
   "execution_count": null,
   "id": "b458600f-ddd6-4f0d-af41-a18d099f8475",
   "metadata": {},
   "outputs": [],
   "source": []
  },
  {
   "cell_type": "code",
   "execution_count": null,
   "id": "26f3600c-3ad1-4440-8f6d-f429bf339152",
   "metadata": {},
   "outputs": [],
   "source": []
  },
  {
   "cell_type": "code",
   "execution_count": null,
   "id": "e91b797f-3b9c-4619-8e36-c5cff93952f0",
   "metadata": {},
   "outputs": [],
   "source": []
  },
  {
   "cell_type": "code",
   "execution_count": null,
   "id": "4ea74f7b-15c4-4ef9-9a00-87f3c2211b09",
   "metadata": {},
   "outputs": [],
   "source": []
  },
  {
   "cell_type": "code",
   "execution_count": null,
   "id": "bb140be8-1a45-40fc-852e-8e756279b743",
   "metadata": {},
   "outputs": [],
   "source": []
  },
  {
   "cell_type": "code",
   "execution_count": null,
   "id": "d87180ab-9300-4922-9851-3e5a7feb5df3",
   "metadata": {},
   "outputs": [],
   "source": []
  },
  {
   "cell_type": "code",
   "execution_count": null,
   "id": "b19be83d-b42d-46a4-8773-806a7143dfea",
   "metadata": {},
   "outputs": [],
   "source": []
  },
  {
   "cell_type": "code",
   "execution_count": null,
   "id": "c64b0c47-29e6-4aba-bd95-b86ebbf543e2",
   "metadata": {},
   "outputs": [],
   "source": []
  },
  {
   "cell_type": "code",
   "execution_count": null,
   "id": "bfb12fa6-4f03-41f1-abc4-614467043b85",
   "metadata": {},
   "outputs": [],
   "source": []
  },
  {
   "cell_type": "code",
   "execution_count": null,
   "id": "53a3ac6b-e24a-4e2d-a066-f5a0dc1032c4",
   "metadata": {},
   "outputs": [],
   "source": []
  },
  {
   "cell_type": "code",
   "execution_count": null,
   "id": "da3d3d4c-5107-41bf-973b-49dd2904aea2",
   "metadata": {},
   "outputs": [],
   "source": []
  },
  {
   "cell_type": "code",
   "execution_count": null,
   "id": "f3da9096-3865-431f-b82f-2ad126ebb1de",
   "metadata": {},
   "outputs": [],
   "source": []
  },
  {
   "cell_type": "code",
   "execution_count": null,
   "id": "525407ec-d4c4-47e7-a4e2-e172074199e6",
   "metadata": {},
   "outputs": [],
   "source": []
  },
  {
   "cell_type": "code",
   "execution_count": null,
   "id": "49e51ae5-ef7c-4cf8-8e66-ede12a4dc36d",
   "metadata": {},
   "outputs": [],
   "source": []
  },
  {
   "cell_type": "code",
   "execution_count": null,
   "id": "cb525d0d-1aaf-4ea3-850b-f19917ead5e7",
   "metadata": {},
   "outputs": [],
   "source": []
  },
  {
   "cell_type": "code",
   "execution_count": null,
   "id": "c4cb1fbb-26cb-4607-be85-16aa044d2a68",
   "metadata": {},
   "outputs": [],
   "source": []
  },
  {
   "cell_type": "code",
   "execution_count": null,
   "id": "185874c7-c21f-4eef-8a08-252d8f7399fa",
   "metadata": {},
   "outputs": [],
   "source": []
  },
  {
   "cell_type": "code",
   "execution_count": null,
   "id": "9a1fef76-72c4-435a-a89c-b3df96625114",
   "metadata": {},
   "outputs": [],
   "source": []
  },
  {
   "cell_type": "code",
   "execution_count": null,
   "id": "03572d34-86f5-4376-b148-1c6944fcef69",
   "metadata": {},
   "outputs": [],
   "source": []
  },
  {
   "cell_type": "code",
   "execution_count": null,
   "id": "11835f14-edb3-4fc5-b117-7a653ea9bd5c",
   "metadata": {},
   "outputs": [],
   "source": []
  },
  {
   "cell_type": "code",
   "execution_count": null,
   "id": "8085ae9d-2a4a-4ac1-bbf4-ce05b8bf29f1",
   "metadata": {},
   "outputs": [],
   "source": []
  },
  {
   "cell_type": "code",
   "execution_count": null,
   "id": "fb2f316b-6719-4e6e-826d-c76c6b733e09",
   "metadata": {},
   "outputs": [],
   "source": []
  },
  {
   "cell_type": "code",
   "execution_count": null,
   "id": "114e7f5d-2580-4c6a-a577-6e3d07862784",
   "metadata": {},
   "outputs": [],
   "source": []
  },
  {
   "cell_type": "code",
   "execution_count": null,
   "id": "c901aac5-7dd3-4e7b-8685-74f31035b024",
   "metadata": {},
   "outputs": [],
   "source": []
  },
  {
   "cell_type": "code",
   "execution_count": null,
   "id": "d8436bc9-ab97-491a-b2b9-97d8a385ce53",
   "metadata": {},
   "outputs": [],
   "source": []
  },
  {
   "cell_type": "code",
   "execution_count": null,
   "id": "d2f94f2e-0a1b-4ea3-8e8c-2dbed0cc6885",
   "metadata": {},
   "outputs": [],
   "source": []
  },
  {
   "cell_type": "code",
   "execution_count": null,
   "id": "3fa7d4bd-483d-4338-b002-cfbd886b3df1",
   "metadata": {},
   "outputs": [],
   "source": []
  },
  {
   "cell_type": "code",
   "execution_count": null,
   "id": "ad095f2a-c97f-4bc5-95e9-72413c16a9ea",
   "metadata": {},
   "outputs": [],
   "source": []
  },
  {
   "cell_type": "code",
   "execution_count": null,
   "id": "c409f3a5-6b6f-4a48-bf8c-76f7652b2f3a",
   "metadata": {},
   "outputs": [],
   "source": []
  },
  {
   "cell_type": "code",
   "execution_count": null,
   "id": "268ddba0-8f55-4f15-b348-aa1dca0c7c87",
   "metadata": {},
   "outputs": [],
   "source": []
  },
  {
   "cell_type": "code",
   "execution_count": null,
   "id": "f524a75d-1269-4191-a3d8-8ee34b1c80e5",
   "metadata": {},
   "outputs": [],
   "source": []
  },
  {
   "cell_type": "code",
   "execution_count": null,
   "id": "27145f71-7e39-460b-88d6-1c5e888d4234",
   "metadata": {},
   "outputs": [],
   "source": []
  },
  {
   "cell_type": "code",
   "execution_count": null,
   "id": "0a7ed9de-2b50-43c9-940e-7f006db2c2ff",
   "metadata": {},
   "outputs": [],
   "source": []
  },
  {
   "cell_type": "code",
   "execution_count": null,
   "id": "cabbfaa0-042c-418a-8900-750d1bbc9513",
   "metadata": {},
   "outputs": [],
   "source": []
  },
  {
   "cell_type": "code",
   "execution_count": null,
   "id": "457c2852-dce1-4ee9-8890-e6963ce28ecb",
   "metadata": {},
   "outputs": [],
   "source": []
  },
  {
   "cell_type": "code",
   "execution_count": null,
   "id": "6a70590f-e2ec-44f2-912f-87330f24a3db",
   "metadata": {},
   "outputs": [],
   "source": []
  },
  {
   "cell_type": "code",
   "execution_count": null,
   "id": "e4d437a5-334b-4f23-91ea-0596b3a91331",
   "metadata": {},
   "outputs": [],
   "source": []
  },
  {
   "cell_type": "code",
   "execution_count": null,
   "id": "ec0e3c77-b3db-4a22-98a8-86901d0436c4",
   "metadata": {},
   "outputs": [],
   "source": []
  },
  {
   "cell_type": "code",
   "execution_count": null,
   "id": "6db99bf8-e780-4654-9f83-7b1877af2cbd",
   "metadata": {},
   "outputs": [],
   "source": []
  },
  {
   "cell_type": "code",
   "execution_count": null,
   "id": "9f172a79-0bfc-4f03-a359-0538f9d2bc79",
   "metadata": {},
   "outputs": [],
   "source": []
  },
  {
   "cell_type": "code",
   "execution_count": null,
   "id": "5ec6e23b-6843-453c-924a-994eb5d8a3c7",
   "metadata": {},
   "outputs": [],
   "source": []
  },
  {
   "cell_type": "code",
   "execution_count": null,
   "id": "30aa606b-f069-4725-af7c-1304d6ea4da3",
   "metadata": {},
   "outputs": [],
   "source": []
  },
  {
   "cell_type": "code",
   "execution_count": null,
   "id": "42030895-f5e3-45d9-8745-c92d9bf69c4c",
   "metadata": {},
   "outputs": [],
   "source": []
  },
  {
   "cell_type": "code",
   "execution_count": null,
   "id": "f287def1-5e24-4df9-aa8b-0eca18fa3d61",
   "metadata": {},
   "outputs": [],
   "source": []
  },
  {
   "cell_type": "code",
   "execution_count": null,
   "id": "86594b11-049d-4ac9-8b26-4d57ec451998",
   "metadata": {},
   "outputs": [],
   "source": []
  },
  {
   "cell_type": "code",
   "execution_count": null,
   "id": "aa41965e-50b0-4927-9c58-370400512088",
   "metadata": {},
   "outputs": [],
   "source": []
  },
  {
   "cell_type": "code",
   "execution_count": null,
   "id": "572cfd72-c4b0-463a-bd86-d89cad288b1c",
   "metadata": {},
   "outputs": [],
   "source": []
  },
  {
   "cell_type": "code",
   "execution_count": null,
   "id": "56e251cb-a055-4b9d-a1b3-a6585388c223",
   "metadata": {},
   "outputs": [],
   "source": []
  },
  {
   "cell_type": "code",
   "execution_count": null,
   "id": "d465fe1e-5cc0-4a00-ae63-beb095c3bdc0",
   "metadata": {},
   "outputs": [],
   "source": []
  },
  {
   "cell_type": "code",
   "execution_count": null,
   "id": "9721acfe-2cb6-4cbb-9bb6-32c64f5a0974",
   "metadata": {},
   "outputs": [],
   "source": []
  },
  {
   "cell_type": "code",
   "execution_count": null,
   "id": "221d2b9a-59dd-4182-9b66-6ad4ff436058",
   "metadata": {},
   "outputs": [],
   "source": []
  },
  {
   "cell_type": "code",
   "execution_count": null,
   "id": "d4b7f619-66a8-4938-9a8c-c043b238cf8c",
   "metadata": {},
   "outputs": [],
   "source": []
  },
  {
   "cell_type": "code",
   "execution_count": null,
   "id": "b6b84ee1-e315-4d67-bb86-954652fcfd0f",
   "metadata": {},
   "outputs": [],
   "source": []
  },
  {
   "cell_type": "code",
   "execution_count": null,
   "id": "d222eacf-6fee-4038-a077-45b66e26b9ea",
   "metadata": {},
   "outputs": [],
   "source": []
  },
  {
   "cell_type": "code",
   "execution_count": null,
   "id": "59844da2-cdc7-48ea-88a9-d3ebfabf9fbe",
   "metadata": {},
   "outputs": [],
   "source": []
  },
  {
   "cell_type": "code",
   "execution_count": null,
   "id": "60533a51-6362-4b33-9075-600620a525cc",
   "metadata": {},
   "outputs": [],
   "source": []
  },
  {
   "cell_type": "code",
   "execution_count": null,
   "id": "7b8fafbd-a67d-4522-b2bc-f03adea9a0f3",
   "metadata": {},
   "outputs": [],
   "source": []
  },
  {
   "cell_type": "code",
   "execution_count": null,
   "id": "2aa238b0-94df-4532-b6b1-6559eeabfabd",
   "metadata": {},
   "outputs": [],
   "source": []
  },
  {
   "cell_type": "code",
   "execution_count": null,
   "id": "531a3c53-bc0a-4755-b6c3-4f4b1a840ea8",
   "metadata": {},
   "outputs": [],
   "source": []
  },
  {
   "cell_type": "code",
   "execution_count": null,
   "id": "797cd40b-dff6-4b77-9951-22e762c56243",
   "metadata": {},
   "outputs": [],
   "source": []
  },
  {
   "cell_type": "code",
   "execution_count": null,
   "id": "33c51327-d97f-4890-8b9c-1d9cc0363346",
   "metadata": {},
   "outputs": [],
   "source": []
  },
  {
   "cell_type": "code",
   "execution_count": null,
   "id": "3489eba9-4811-4c4c-8d9d-cd277694abd6",
   "metadata": {},
   "outputs": [],
   "source": []
  },
  {
   "cell_type": "code",
   "execution_count": null,
   "id": "92bff93a-9ee2-48eb-b0e7-d6b63e4390c2",
   "metadata": {},
   "outputs": [],
   "source": []
  },
  {
   "cell_type": "code",
   "execution_count": null,
   "id": "9a10690e-e476-4189-a3f9-ec7fa23623dc",
   "metadata": {},
   "outputs": [],
   "source": []
  },
  {
   "cell_type": "code",
   "execution_count": null,
   "id": "87b2f5ee-1181-41ed-89ed-64935947aa30",
   "metadata": {},
   "outputs": [],
   "source": []
  },
  {
   "cell_type": "code",
   "execution_count": null,
   "id": "c129c2c6-5a63-489d-8883-f414cc341bd8",
   "metadata": {},
   "outputs": [],
   "source": []
  },
  {
   "cell_type": "code",
   "execution_count": null,
   "id": "da9d04e6-7c2b-4415-bb01-8f3b80c13426",
   "metadata": {},
   "outputs": [],
   "source": []
  },
  {
   "cell_type": "code",
   "execution_count": null,
   "id": "c89cc6bf-293a-40bc-9f0c-526e021356f6",
   "metadata": {},
   "outputs": [],
   "source": []
  },
  {
   "cell_type": "code",
   "execution_count": null,
   "id": "46021e52-0612-432f-bfcb-1fb4d00059f6",
   "metadata": {},
   "outputs": [],
   "source": []
  },
  {
   "cell_type": "code",
   "execution_count": null,
   "id": "1dc8c78b-aa7d-4770-b623-967a1c826ce7",
   "metadata": {},
   "outputs": [],
   "source": []
  },
  {
   "cell_type": "code",
   "execution_count": null,
   "id": "a4d527a4-0533-4582-88be-a43c85cc3b76",
   "metadata": {},
   "outputs": [],
   "source": []
  },
  {
   "cell_type": "code",
   "execution_count": null,
   "id": "bc29b8b7-6080-4c12-9b18-4acf3d00b9f2",
   "metadata": {},
   "outputs": [],
   "source": []
  },
  {
   "cell_type": "code",
   "execution_count": null,
   "id": "d73698bf-7986-4f72-a7f1-24a20ecd9709",
   "metadata": {},
   "outputs": [],
   "source": []
  },
  {
   "cell_type": "code",
   "execution_count": null,
   "id": "b950198e-ae75-46cc-9eeb-d58263d405e5",
   "metadata": {},
   "outputs": [],
   "source": []
  },
  {
   "cell_type": "code",
   "execution_count": null,
   "id": "24968db9-9e72-4758-9c49-79c82bce0999",
   "metadata": {},
   "outputs": [],
   "source": []
  },
  {
   "cell_type": "code",
   "execution_count": null,
   "id": "adec5bb8-6872-47e0-9474-047a85a0f51d",
   "metadata": {},
   "outputs": [],
   "source": []
  },
  {
   "cell_type": "code",
   "execution_count": null,
   "id": "6ef5dbb3-7427-4696-a8b0-d7eab64e5bf4",
   "metadata": {},
   "outputs": [],
   "source": []
  },
  {
   "cell_type": "code",
   "execution_count": null,
   "id": "798b2607-ec86-4136-ab19-f66872a8e225",
   "metadata": {},
   "outputs": [],
   "source": []
  },
  {
   "cell_type": "code",
   "execution_count": null,
   "id": "e978d393-cb79-4f3c-a01b-8762b088465f",
   "metadata": {},
   "outputs": [],
   "source": []
  },
  {
   "cell_type": "code",
   "execution_count": null,
   "id": "5bbdbd34-546a-4c78-8d44-02064d3e9068",
   "metadata": {},
   "outputs": [],
   "source": []
  },
  {
   "cell_type": "code",
   "execution_count": null,
   "id": "3374201a-0e67-4ac9-8359-3902bb9bee3b",
   "metadata": {},
   "outputs": [],
   "source": []
  },
  {
   "cell_type": "code",
   "execution_count": null,
   "id": "20cf45ed-49da-45c5-a457-617f8f24ff40",
   "metadata": {},
   "outputs": [],
   "source": []
  },
  {
   "cell_type": "code",
   "execution_count": null,
   "id": "2294f929-9e35-4ab6-964f-7cb99202c394",
   "metadata": {},
   "outputs": [],
   "source": []
  },
  {
   "cell_type": "code",
   "execution_count": null,
   "id": "4a10070a-7f9b-4204-b5d6-3bf5d05ae1c2",
   "metadata": {},
   "outputs": [],
   "source": []
  },
  {
   "cell_type": "code",
   "execution_count": null,
   "id": "db6c193e-8522-45d9-8395-bb316131bcf7",
   "metadata": {},
   "outputs": [],
   "source": []
  },
  {
   "cell_type": "code",
   "execution_count": null,
   "id": "c38e4f09-a418-4cba-af6f-1008b10ee07f",
   "metadata": {},
   "outputs": [],
   "source": []
  },
  {
   "cell_type": "code",
   "execution_count": null,
   "id": "0b3d7936-ffd4-41a0-ab87-0b56c6098965",
   "metadata": {},
   "outputs": [],
   "source": []
  },
  {
   "cell_type": "code",
   "execution_count": null,
   "id": "a2de6f8b-b59f-4d8f-8b3b-977a331b9de3",
   "metadata": {},
   "outputs": [],
   "source": []
  },
  {
   "cell_type": "code",
   "execution_count": null,
   "id": "df3eea3a-df10-4462-b93d-d7d72e393d9b",
   "metadata": {},
   "outputs": [],
   "source": []
  },
  {
   "cell_type": "code",
   "execution_count": null,
   "id": "c0f97685-802e-41a8-bacb-d88ddee9f03e",
   "metadata": {},
   "outputs": [],
   "source": []
  }
 ],
 "metadata": {
  "kernelspec": {
   "display_name": "Python 3 (ipykernel)",
   "language": "python",
   "name": "python3"
  },
  "language_info": {
   "codemirror_mode": {
    "name": "ipython",
    "version": 3
   },
   "file_extension": ".py",
   "mimetype": "text/x-python",
   "name": "python",
   "nbconvert_exporter": "python",
   "pygments_lexer": "ipython3",
   "version": "3.11.7"
  }
 },
 "nbformat": 4,
 "nbformat_minor": 5
}
